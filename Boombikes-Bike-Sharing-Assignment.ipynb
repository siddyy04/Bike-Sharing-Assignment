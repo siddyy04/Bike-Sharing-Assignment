{
 "cells": [
  {
   "cell_type": "markdown",
   "id": "1578417c",
   "metadata": {},
   "source": [
    "# BoomBikes Bike Sharing"
   ]
  },
  {
   "cell_type": "code",
   "execution_count": 86,
   "id": "1f1550b9",
   "metadata": {},
   "outputs": [],
   "source": [
    "# suppress warnings\n",
    "import warnings\n",
    "warnings.filterwarnings('ignore')"
   ]
  },
  {
   "cell_type": "code",
   "execution_count": 87,
   "id": "db8639ba",
   "metadata": {},
   "outputs": [],
   "source": [
    "# Import required libraries\n",
    "import numpy as np\n",
    "import pandas as pd\n",
    "\n",
    "import matplotlib.pyplot as plt\n",
    "import seaborn as sns\n",
    "\n",
    "from sklearn.model_selection import train_test_split\n",
    "from sklearn.preprocessing import MinMaxScaler\n",
    "from sklearn.linear_model import LinearRegression\n",
    "from sklearn.feature_selection import RFE\n",
    "from statsmodels.stats.outliers_influence import variance_inflation_factor\n",
    "from sklearn.metrics import r2_score, mean_squared_error\n",
    "\n",
    "import statsmodels.api as sm"
   ]
  },
  {
   "cell_type": "markdown",
   "id": "3c5e934a",
   "metadata": {},
   "source": [
    "## Step 1: Reading & Understanding Data"
   ]
  },
  {
   "cell_type": "code",
   "execution_count": 88,
   "id": "85597565",
   "metadata": {},
   "outputs": [
    {
     "data": {
      "text/html": [
       "<div>\n",
       "<style scoped>\n",
       "    .dataframe tbody tr th:only-of-type {\n",
       "        vertical-align: middle;\n",
       "    }\n",
       "\n",
       "    .dataframe tbody tr th {\n",
       "        vertical-align: top;\n",
       "    }\n",
       "\n",
       "    .dataframe thead th {\n",
       "        text-align: right;\n",
       "    }\n",
       "</style>\n",
       "<table border=\"1\" class=\"dataframe\">\n",
       "  <thead>\n",
       "    <tr style=\"text-align: right;\">\n",
       "      <th></th>\n",
       "      <th>instant</th>\n",
       "      <th>dteday</th>\n",
       "      <th>season</th>\n",
       "      <th>yr</th>\n",
       "      <th>mnth</th>\n",
       "      <th>holiday</th>\n",
       "      <th>weekday</th>\n",
       "      <th>workingday</th>\n",
       "      <th>weathersit</th>\n",
       "      <th>temp</th>\n",
       "      <th>atemp</th>\n",
       "      <th>hum</th>\n",
       "      <th>windspeed</th>\n",
       "      <th>casual</th>\n",
       "      <th>registered</th>\n",
       "      <th>cnt</th>\n",
       "    </tr>\n",
       "  </thead>\n",
       "  <tbody>\n",
       "    <tr>\n",
       "      <th>0</th>\n",
       "      <td>1</td>\n",
       "      <td>01-01-2018</td>\n",
       "      <td>1</td>\n",
       "      <td>0</td>\n",
       "      <td>1</td>\n",
       "      <td>0</td>\n",
       "      <td>6</td>\n",
       "      <td>0</td>\n",
       "      <td>2</td>\n",
       "      <td>14.110847</td>\n",
       "      <td>18.18125</td>\n",
       "      <td>80.5833</td>\n",
       "      <td>10.749882</td>\n",
       "      <td>331</td>\n",
       "      <td>654</td>\n",
       "      <td>985</td>\n",
       "    </tr>\n",
       "    <tr>\n",
       "      <th>1</th>\n",
       "      <td>2</td>\n",
       "      <td>02-01-2018</td>\n",
       "      <td>1</td>\n",
       "      <td>0</td>\n",
       "      <td>1</td>\n",
       "      <td>0</td>\n",
       "      <td>0</td>\n",
       "      <td>0</td>\n",
       "      <td>2</td>\n",
       "      <td>14.902598</td>\n",
       "      <td>17.68695</td>\n",
       "      <td>69.6087</td>\n",
       "      <td>16.652113</td>\n",
       "      <td>131</td>\n",
       "      <td>670</td>\n",
       "      <td>801</td>\n",
       "    </tr>\n",
       "    <tr>\n",
       "      <th>2</th>\n",
       "      <td>3</td>\n",
       "      <td>03-01-2018</td>\n",
       "      <td>1</td>\n",
       "      <td>0</td>\n",
       "      <td>1</td>\n",
       "      <td>0</td>\n",
       "      <td>1</td>\n",
       "      <td>1</td>\n",
       "      <td>1</td>\n",
       "      <td>8.050924</td>\n",
       "      <td>9.47025</td>\n",
       "      <td>43.7273</td>\n",
       "      <td>16.636703</td>\n",
       "      <td>120</td>\n",
       "      <td>1229</td>\n",
       "      <td>1349</td>\n",
       "    </tr>\n",
       "    <tr>\n",
       "      <th>3</th>\n",
       "      <td>4</td>\n",
       "      <td>04-01-2018</td>\n",
       "      <td>1</td>\n",
       "      <td>0</td>\n",
       "      <td>1</td>\n",
       "      <td>0</td>\n",
       "      <td>2</td>\n",
       "      <td>1</td>\n",
       "      <td>1</td>\n",
       "      <td>8.200000</td>\n",
       "      <td>10.60610</td>\n",
       "      <td>59.0435</td>\n",
       "      <td>10.739832</td>\n",
       "      <td>108</td>\n",
       "      <td>1454</td>\n",
       "      <td>1562</td>\n",
       "    </tr>\n",
       "    <tr>\n",
       "      <th>4</th>\n",
       "      <td>5</td>\n",
       "      <td>05-01-2018</td>\n",
       "      <td>1</td>\n",
       "      <td>0</td>\n",
       "      <td>1</td>\n",
       "      <td>0</td>\n",
       "      <td>3</td>\n",
       "      <td>1</td>\n",
       "      <td>1</td>\n",
       "      <td>9.305237</td>\n",
       "      <td>11.46350</td>\n",
       "      <td>43.6957</td>\n",
       "      <td>12.522300</td>\n",
       "      <td>82</td>\n",
       "      <td>1518</td>\n",
       "      <td>1600</td>\n",
       "    </tr>\n",
       "  </tbody>\n",
       "</table>\n",
       "</div>"
      ],
      "text/plain": [
       "   instant      dteday  season  yr  mnth  holiday  weekday  workingday  \\\n",
       "0        1  01-01-2018       1   0     1        0        6           0   \n",
       "1        2  02-01-2018       1   0     1        0        0           0   \n",
       "2        3  03-01-2018       1   0     1        0        1           1   \n",
       "3        4  04-01-2018       1   0     1        0        2           1   \n",
       "4        5  05-01-2018       1   0     1        0        3           1   \n",
       "\n",
       "   weathersit       temp     atemp      hum  windspeed  casual  registered  \\\n",
       "0           2  14.110847  18.18125  80.5833  10.749882     331         654   \n",
       "1           2  14.902598  17.68695  69.6087  16.652113     131         670   \n",
       "2           1   8.050924   9.47025  43.7273  16.636703     120        1229   \n",
       "3           1   8.200000  10.60610  59.0435  10.739832     108        1454   \n",
       "4           1   9.305237  11.46350  43.6957  12.522300      82        1518   \n",
       "\n",
       "    cnt  \n",
       "0   985  \n",
       "1   801  \n",
       "2  1349  \n",
       "3  1562  \n",
       "4  1600  "
      ]
     },
     "execution_count": 88,
     "metadata": {},
     "output_type": "execute_result"
    }
   ],
   "source": [
    "# reading data set\n",
    "df = pd.read_csv('day.csv')\n",
    "df.head()"
   ]
  },
  {
   "cell_type": "code",
   "execution_count": 89,
   "id": "19b499db",
   "metadata": {},
   "outputs": [
    {
     "data": {
      "text/plain": [
       "(730, 16)"
      ]
     },
     "execution_count": 89,
     "metadata": {},
     "output_type": "execute_result"
    }
   ],
   "source": [
    "# getting insights of dataframe\n",
    "df.shape"
   ]
  },
  {
   "cell_type": "code",
   "execution_count": 90,
   "id": "e8267798",
   "metadata": {},
   "outputs": [
    {
     "name": "stdout",
     "output_type": "stream",
     "text": [
      "<class 'pandas.core.frame.DataFrame'>\n",
      "RangeIndex: 730 entries, 0 to 729\n",
      "Data columns (total 16 columns):\n",
      " #   Column      Non-Null Count  Dtype  \n",
      "---  ------      --------------  -----  \n",
      " 0   instant     730 non-null    int64  \n",
      " 1   dteday      730 non-null    object \n",
      " 2   season      730 non-null    int64  \n",
      " 3   yr          730 non-null    int64  \n",
      " 4   mnth        730 non-null    int64  \n",
      " 5   holiday     730 non-null    int64  \n",
      " 6   weekday     730 non-null    int64  \n",
      " 7   workingday  730 non-null    int64  \n",
      " 8   weathersit  730 non-null    int64  \n",
      " 9   temp        730 non-null    float64\n",
      " 10  atemp       730 non-null    float64\n",
      " 11  hum         730 non-null    float64\n",
      " 12  windspeed   730 non-null    float64\n",
      " 13  casual      730 non-null    int64  \n",
      " 14  registered  730 non-null    int64  \n",
      " 15  cnt         730 non-null    int64  \n",
      "dtypes: float64(4), int64(11), object(1)\n",
      "memory usage: 91.4+ KB\n"
     ]
    }
   ],
   "source": [
    "# getting descriptive insights of dataframe\n",
    "df.info()"
   ]
  },
  {
   "cell_type": "code",
   "execution_count": 91,
   "id": "052f6202",
   "metadata": {},
   "outputs": [
    {
     "data": {
      "text/html": [
       "<div>\n",
       "<style scoped>\n",
       "    .dataframe tbody tr th:only-of-type {\n",
       "        vertical-align: middle;\n",
       "    }\n",
       "\n",
       "    .dataframe tbody tr th {\n",
       "        vertical-align: top;\n",
       "    }\n",
       "\n",
       "    .dataframe thead th {\n",
       "        text-align: right;\n",
       "    }\n",
       "</style>\n",
       "<table border=\"1\" class=\"dataframe\">\n",
       "  <thead>\n",
       "    <tr style=\"text-align: right;\">\n",
       "      <th></th>\n",
       "      <th>instant</th>\n",
       "      <th>season</th>\n",
       "      <th>yr</th>\n",
       "      <th>mnth</th>\n",
       "      <th>holiday</th>\n",
       "      <th>weekday</th>\n",
       "      <th>workingday</th>\n",
       "      <th>weathersit</th>\n",
       "      <th>temp</th>\n",
       "      <th>atemp</th>\n",
       "      <th>hum</th>\n",
       "      <th>windspeed</th>\n",
       "      <th>casual</th>\n",
       "      <th>registered</th>\n",
       "      <th>cnt</th>\n",
       "    </tr>\n",
       "  </thead>\n",
       "  <tbody>\n",
       "    <tr>\n",
       "      <th>count</th>\n",
       "      <td>730.000000</td>\n",
       "      <td>730.000000</td>\n",
       "      <td>730.000000</td>\n",
       "      <td>730.000000</td>\n",
       "      <td>730.000000</td>\n",
       "      <td>730.000000</td>\n",
       "      <td>730.000000</td>\n",
       "      <td>730.000000</td>\n",
       "      <td>730.000000</td>\n",
       "      <td>730.000000</td>\n",
       "      <td>730.000000</td>\n",
       "      <td>730.000000</td>\n",
       "      <td>730.000000</td>\n",
       "      <td>730.000000</td>\n",
       "      <td>730.000000</td>\n",
       "    </tr>\n",
       "    <tr>\n",
       "      <th>mean</th>\n",
       "      <td>365.500000</td>\n",
       "      <td>2.498630</td>\n",
       "      <td>0.500000</td>\n",
       "      <td>6.526027</td>\n",
       "      <td>0.028767</td>\n",
       "      <td>2.997260</td>\n",
       "      <td>0.683562</td>\n",
       "      <td>1.394521</td>\n",
       "      <td>20.319259</td>\n",
       "      <td>23.726322</td>\n",
       "      <td>62.765175</td>\n",
       "      <td>12.763620</td>\n",
       "      <td>849.249315</td>\n",
       "      <td>3658.757534</td>\n",
       "      <td>4508.006849</td>\n",
       "    </tr>\n",
       "    <tr>\n",
       "      <th>std</th>\n",
       "      <td>210.877136</td>\n",
       "      <td>1.110184</td>\n",
       "      <td>0.500343</td>\n",
       "      <td>3.450215</td>\n",
       "      <td>0.167266</td>\n",
       "      <td>2.006161</td>\n",
       "      <td>0.465405</td>\n",
       "      <td>0.544807</td>\n",
       "      <td>7.506729</td>\n",
       "      <td>8.150308</td>\n",
       "      <td>14.237589</td>\n",
       "      <td>5.195841</td>\n",
       "      <td>686.479875</td>\n",
       "      <td>1559.758728</td>\n",
       "      <td>1936.011647</td>\n",
       "    </tr>\n",
       "    <tr>\n",
       "      <th>min</th>\n",
       "      <td>1.000000</td>\n",
       "      <td>1.000000</td>\n",
       "      <td>0.000000</td>\n",
       "      <td>1.000000</td>\n",
       "      <td>0.000000</td>\n",
       "      <td>0.000000</td>\n",
       "      <td>0.000000</td>\n",
       "      <td>1.000000</td>\n",
       "      <td>2.424346</td>\n",
       "      <td>3.953480</td>\n",
       "      <td>0.000000</td>\n",
       "      <td>1.500244</td>\n",
       "      <td>2.000000</td>\n",
       "      <td>20.000000</td>\n",
       "      <td>22.000000</td>\n",
       "    </tr>\n",
       "    <tr>\n",
       "      <th>25%</th>\n",
       "      <td>183.250000</td>\n",
       "      <td>2.000000</td>\n",
       "      <td>0.000000</td>\n",
       "      <td>4.000000</td>\n",
       "      <td>0.000000</td>\n",
       "      <td>1.000000</td>\n",
       "      <td>0.000000</td>\n",
       "      <td>1.000000</td>\n",
       "      <td>13.811885</td>\n",
       "      <td>16.889713</td>\n",
       "      <td>52.000000</td>\n",
       "      <td>9.041650</td>\n",
       "      <td>316.250000</td>\n",
       "      <td>2502.250000</td>\n",
       "      <td>3169.750000</td>\n",
       "    </tr>\n",
       "    <tr>\n",
       "      <th>50%</th>\n",
       "      <td>365.500000</td>\n",
       "      <td>3.000000</td>\n",
       "      <td>0.500000</td>\n",
       "      <td>7.000000</td>\n",
       "      <td>0.000000</td>\n",
       "      <td>3.000000</td>\n",
       "      <td>1.000000</td>\n",
       "      <td>1.000000</td>\n",
       "      <td>20.465826</td>\n",
       "      <td>24.368225</td>\n",
       "      <td>62.625000</td>\n",
       "      <td>12.125325</td>\n",
       "      <td>717.000000</td>\n",
       "      <td>3664.500000</td>\n",
       "      <td>4548.500000</td>\n",
       "    </tr>\n",
       "    <tr>\n",
       "      <th>75%</th>\n",
       "      <td>547.750000</td>\n",
       "      <td>3.000000</td>\n",
       "      <td>1.000000</td>\n",
       "      <td>10.000000</td>\n",
       "      <td>0.000000</td>\n",
       "      <td>5.000000</td>\n",
       "      <td>1.000000</td>\n",
       "      <td>2.000000</td>\n",
       "      <td>26.880615</td>\n",
       "      <td>30.445775</td>\n",
       "      <td>72.989575</td>\n",
       "      <td>15.625589</td>\n",
       "      <td>1096.500000</td>\n",
       "      <td>4783.250000</td>\n",
       "      <td>5966.000000</td>\n",
       "    </tr>\n",
       "    <tr>\n",
       "      <th>max</th>\n",
       "      <td>730.000000</td>\n",
       "      <td>4.000000</td>\n",
       "      <td>1.000000</td>\n",
       "      <td>12.000000</td>\n",
       "      <td>1.000000</td>\n",
       "      <td>6.000000</td>\n",
       "      <td>1.000000</td>\n",
       "      <td>3.000000</td>\n",
       "      <td>35.328347</td>\n",
       "      <td>42.044800</td>\n",
       "      <td>97.250000</td>\n",
       "      <td>34.000021</td>\n",
       "      <td>3410.000000</td>\n",
       "      <td>6946.000000</td>\n",
       "      <td>8714.000000</td>\n",
       "    </tr>\n",
       "  </tbody>\n",
       "</table>\n",
       "</div>"
      ],
      "text/plain": [
       "          instant      season          yr        mnth     holiday     weekday  \\\n",
       "count  730.000000  730.000000  730.000000  730.000000  730.000000  730.000000   \n",
       "mean   365.500000    2.498630    0.500000    6.526027    0.028767    2.997260   \n",
       "std    210.877136    1.110184    0.500343    3.450215    0.167266    2.006161   \n",
       "min      1.000000    1.000000    0.000000    1.000000    0.000000    0.000000   \n",
       "25%    183.250000    2.000000    0.000000    4.000000    0.000000    1.000000   \n",
       "50%    365.500000    3.000000    0.500000    7.000000    0.000000    3.000000   \n",
       "75%    547.750000    3.000000    1.000000   10.000000    0.000000    5.000000   \n",
       "max    730.000000    4.000000    1.000000   12.000000    1.000000    6.000000   \n",
       "\n",
       "       workingday  weathersit        temp       atemp         hum   windspeed  \\\n",
       "count  730.000000  730.000000  730.000000  730.000000  730.000000  730.000000   \n",
       "mean     0.683562    1.394521   20.319259   23.726322   62.765175   12.763620   \n",
       "std      0.465405    0.544807    7.506729    8.150308   14.237589    5.195841   \n",
       "min      0.000000    1.000000    2.424346    3.953480    0.000000    1.500244   \n",
       "25%      0.000000    1.000000   13.811885   16.889713   52.000000    9.041650   \n",
       "50%      1.000000    1.000000   20.465826   24.368225   62.625000   12.125325   \n",
       "75%      1.000000    2.000000   26.880615   30.445775   72.989575   15.625589   \n",
       "max      1.000000    3.000000   35.328347   42.044800   97.250000   34.000021   \n",
       "\n",
       "            casual   registered          cnt  \n",
       "count   730.000000   730.000000   730.000000  \n",
       "mean    849.249315  3658.757534  4508.006849  \n",
       "std     686.479875  1559.758728  1936.011647  \n",
       "min       2.000000    20.000000    22.000000  \n",
       "25%     316.250000  2502.250000  3169.750000  \n",
       "50%     717.000000  3664.500000  4548.500000  \n",
       "75%    1096.500000  4783.250000  5966.000000  \n",
       "max    3410.000000  6946.000000  8714.000000  "
      ]
     },
     "execution_count": 91,
     "metadata": {},
     "output_type": "execute_result"
    }
   ],
   "source": [
    "# getting description of dataframe\n",
    "df.describe()"
   ]
  },
  {
   "cell_type": "code",
   "execution_count": 92,
   "id": "6323e55a",
   "metadata": {},
   "outputs": [
    {
     "data": {
      "text/plain": [
       "0"
      ]
     },
     "execution_count": 92,
     "metadata": {},
     "output_type": "execute_result"
    }
   ],
   "source": [
    "# Check for any duplicate entries\n",
    "df.duplicated().sum()"
   ]
  },
  {
   "cell_type": "markdown",
   "id": "3cb675ea",
   "metadata": {},
   "source": [
    "<div class=\"alert alert-block alert-success\">\n",
    "<b>Insights:</b><br>"
   ]
  },
  {
   "cell_type": "markdown",
   "id": "271554ab",
   "metadata": {},
   "source": [
    "- There are no NULL or duplicate values in any columns\n",
    "-  `instant` column is a record index which does not have any significance in out analysis. So we will drop the column  \n",
    "- The varibles `casual` and `registered` are summed up to get `cnt` which is our target variable. Also during prediction we wll not be having these data, so we will drop these two variables which we are not going to use in the model.\n",
    "- We are going to use `weekday` varible which is derived from `dteday`, so we will not be using `dteday` and will drop it.\n",
    "- `temp` and `atemp` are directly correlated among each other. We will use `temp` and drop `atemp`."
   ]
  },
  {
   "cell_type": "code",
   "execution_count": 93,
   "id": "06449864",
   "metadata": {
    "scrolled": true
   },
   "outputs": [],
   "source": [
    "# drop columns instance, dteday, casual, registered and atemp\n",
    "df.drop(['instant', 'dteday','casual','registered','atemp'], axis=1, inplace=True)"
   ]
  },
  {
   "cell_type": "code",
   "execution_count": 94,
   "id": "421ccd74",
   "metadata": {
    "scrolled": true
   },
   "outputs": [
    {
     "data": {
      "text/plain": [
       "(730, 11)"
      ]
     },
     "execution_count": 94,
     "metadata": {},
     "output_type": "execute_result"
    }
   ],
   "source": [
    "# After dropping the variables, checking the columns abnd rows in the dataframe\n",
    "df.shape"
   ]
  },
  {
   "cell_type": "code",
   "execution_count": 95,
   "id": "a4aef21e",
   "metadata": {
    "scrolled": true
   },
   "outputs": [],
   "source": [
    "# identify categorical variables\n",
    "cat_vars = ['season','yr','mnth','holiday','weekday', 'workingday','weathersit']\n",
    "\n",
    "# identify numeric variables\n",
    "num_vars = ['temp', 'hum','windspeed','cnt']"
   ]
  },
  {
   "cell_type": "code",
   "execution_count": 96,
   "id": "75a15e1b",
   "metadata": {},
   "outputs": [],
   "source": [
    "# convert dtype of categorical variables\n",
    "df[cat_vars] = df[cat_vars].astype('category')"
   ]
  },
  {
   "cell_type": "code",
   "execution_count": 97,
   "id": "7c68b1fb",
   "metadata": {},
   "outputs": [
    {
     "data": {
      "text/html": [
       "<div>\n",
       "<style scoped>\n",
       "    .dataframe tbody tr th:only-of-type {\n",
       "        vertical-align: middle;\n",
       "    }\n",
       "\n",
       "    .dataframe tbody tr th {\n",
       "        vertical-align: top;\n",
       "    }\n",
       "\n",
       "    .dataframe thead th {\n",
       "        text-align: right;\n",
       "    }\n",
       "</style>\n",
       "<table border=\"1\" class=\"dataframe\">\n",
       "  <thead>\n",
       "    <tr style=\"text-align: right;\">\n",
       "      <th></th>\n",
       "      <th>temp</th>\n",
       "      <th>hum</th>\n",
       "      <th>windspeed</th>\n",
       "      <th>cnt</th>\n",
       "    </tr>\n",
       "  </thead>\n",
       "  <tbody>\n",
       "    <tr>\n",
       "      <th>count</th>\n",
       "      <td>730.000000</td>\n",
       "      <td>730.000000</td>\n",
       "      <td>730.000000</td>\n",
       "      <td>730.000000</td>\n",
       "    </tr>\n",
       "    <tr>\n",
       "      <th>mean</th>\n",
       "      <td>20.319259</td>\n",
       "      <td>62.765175</td>\n",
       "      <td>12.763620</td>\n",
       "      <td>4508.006849</td>\n",
       "    </tr>\n",
       "    <tr>\n",
       "      <th>std</th>\n",
       "      <td>7.506729</td>\n",
       "      <td>14.237589</td>\n",
       "      <td>5.195841</td>\n",
       "      <td>1936.011647</td>\n",
       "    </tr>\n",
       "    <tr>\n",
       "      <th>min</th>\n",
       "      <td>2.424346</td>\n",
       "      <td>0.000000</td>\n",
       "      <td>1.500244</td>\n",
       "      <td>22.000000</td>\n",
       "    </tr>\n",
       "    <tr>\n",
       "      <th>25%</th>\n",
       "      <td>13.811885</td>\n",
       "      <td>52.000000</td>\n",
       "      <td>9.041650</td>\n",
       "      <td>3169.750000</td>\n",
       "    </tr>\n",
       "    <tr>\n",
       "      <th>50%</th>\n",
       "      <td>20.465826</td>\n",
       "      <td>62.625000</td>\n",
       "      <td>12.125325</td>\n",
       "      <td>4548.500000</td>\n",
       "    </tr>\n",
       "    <tr>\n",
       "      <th>75%</th>\n",
       "      <td>26.880615</td>\n",
       "      <td>72.989575</td>\n",
       "      <td>15.625589</td>\n",
       "      <td>5966.000000</td>\n",
       "    </tr>\n",
       "    <tr>\n",
       "      <th>max</th>\n",
       "      <td>35.328347</td>\n",
       "      <td>97.250000</td>\n",
       "      <td>34.000021</td>\n",
       "      <td>8714.000000</td>\n",
       "    </tr>\n",
       "  </tbody>\n",
       "</table>\n",
       "</div>"
      ],
      "text/plain": [
       "             temp         hum   windspeed          cnt\n",
       "count  730.000000  730.000000  730.000000   730.000000\n",
       "mean    20.319259   62.765175   12.763620  4508.006849\n",
       "std      7.506729   14.237589    5.195841  1936.011647\n",
       "min      2.424346    0.000000    1.500244    22.000000\n",
       "25%     13.811885   52.000000    9.041650  3169.750000\n",
       "50%     20.465826   62.625000   12.125325  4548.500000\n",
       "75%     26.880615   72.989575   15.625589  5966.000000\n",
       "max     35.328347   97.250000   34.000021  8714.000000"
      ]
     },
     "execution_count": 97,
     "metadata": {},
     "output_type": "execute_result"
    }
   ],
   "source": [
    "# get insights of numeric variable\n",
    "df.describe()"
   ]
  },
  {
   "cell_type": "code",
   "execution_count": 98,
   "id": "636f3cc8",
   "metadata": {
    "scrolled": true
   },
   "outputs": [
    {
     "data": {
      "text/html": [
       "<div>\n",
       "<style scoped>\n",
       "    .dataframe tbody tr th:only-of-type {\n",
       "        vertical-align: middle;\n",
       "    }\n",
       "\n",
       "    .dataframe tbody tr th {\n",
       "        vertical-align: top;\n",
       "    }\n",
       "\n",
       "    .dataframe thead th {\n",
       "        text-align: right;\n",
       "    }\n",
       "</style>\n",
       "<table border=\"1\" class=\"dataframe\">\n",
       "  <thead>\n",
       "    <tr style=\"text-align: right;\">\n",
       "      <th></th>\n",
       "      <th>season</th>\n",
       "      <th>yr</th>\n",
       "      <th>mnth</th>\n",
       "      <th>holiday</th>\n",
       "      <th>weekday</th>\n",
       "      <th>workingday</th>\n",
       "      <th>weathersit</th>\n",
       "    </tr>\n",
       "  </thead>\n",
       "  <tbody>\n",
       "    <tr>\n",
       "      <th>count</th>\n",
       "      <td>730</td>\n",
       "      <td>730</td>\n",
       "      <td>730</td>\n",
       "      <td>730</td>\n",
       "      <td>730</td>\n",
       "      <td>730</td>\n",
       "      <td>730</td>\n",
       "    </tr>\n",
       "    <tr>\n",
       "      <th>unique</th>\n",
       "      <td>4</td>\n",
       "      <td>2</td>\n",
       "      <td>12</td>\n",
       "      <td>2</td>\n",
       "      <td>7</td>\n",
       "      <td>2</td>\n",
       "      <td>3</td>\n",
       "    </tr>\n",
       "    <tr>\n",
       "      <th>top</th>\n",
       "      <td>3</td>\n",
       "      <td>0</td>\n",
       "      <td>1</td>\n",
       "      <td>0</td>\n",
       "      <td>0</td>\n",
       "      <td>1</td>\n",
       "      <td>1</td>\n",
       "    </tr>\n",
       "    <tr>\n",
       "      <th>freq</th>\n",
       "      <td>188</td>\n",
       "      <td>365</td>\n",
       "      <td>62</td>\n",
       "      <td>709</td>\n",
       "      <td>105</td>\n",
       "      <td>499</td>\n",
       "      <td>463</td>\n",
       "    </tr>\n",
       "  </tbody>\n",
       "</table>\n",
       "</div>"
      ],
      "text/plain": [
       "        season   yr  mnth  holiday  weekday  workingday  weathersit\n",
       "count      730  730   730      730      730         730         730\n",
       "unique       4    2    12        2        7           2           3\n",
       "top          3    0     1        0        0           1           1\n",
       "freq       188  365    62      709      105         499         463"
      ]
     },
     "execution_count": 98,
     "metadata": {},
     "output_type": "execute_result"
    }
   ],
   "source": [
    "# get the insights of categorical variables\n",
    "df.describe(include=['category'])"
   ]
  },
  {
   "cell_type": "markdown",
   "id": "299383c0",
   "metadata": {},
   "source": [
    "<div class=\"alert alert-block alert-info\">\n",
    "    <b>Data Dictionary:</b><br>"
   ]
  },
  {
   "cell_type": "markdown",
   "id": "bf7015bc",
   "metadata": {},
   "source": [
    "Below categorical columns are having following catecteristics and can be mapped with respective values:\n",
    "- `season` column has four seasons as (1:spring, 2:summer, 3:fall, 4:winter)\n",
    "- `mnth` column has 12 categorical values denoting for months Jan to Dec\n",
    "- `weathersit` has 4 categorical values (1: Clear_FewClouds, 2: Mist_Cloudy, 3: LightSnow_LightRain, 4: HeavyRain_IcePallets)\n",
    "- `weekday` column has 7 values ( 0 to 6 ) denoting (0: Sun, 1: Mon 2: Tue, 3: Wed, 4: Thu, 5: Fri, 6: Sat) \n",
    "\n",
    "`yr`, `holiday`, `workingday` have binary values, so we will not map these columns"
   ]
  },
  {
   "cell_type": "code",
   "execution_count": 99,
   "id": "7ea751df",
   "metadata": {},
   "outputs": [],
   "source": [
    "# mapped the season column according to description\n",
    "df['season'] = df['season'].map({1:'spring', 2:'summer', 3:'fall', 4:'winter'})\n",
    "\n",
    "# mapped the weekday column according to description\n",
    "df['weekday'] = df['weekday'].map({0: 'Sun', 1: 'Mon', 2: 'Tue', 3: 'Wed', 4: 'Thu', 5: 'Fri', 6: 'Sat'})\n",
    "\n",
    "\n",
    "# mapped mnth column values (1 to 12) as (jan to dec) respectively\n",
    "df['mnth'] = df['mnth'].map({1:'jan', 2:'feb', 3:'mar', 4:'apr', 5: 'may', 6: 'jun', 7: 'jul', 8: 'aug', 9: 'sep', 10: 'oct',\n",
    "                             11: 'nov', 12:'dec'})\n",
    "\n",
    "#  mapped weathersit column\n",
    "df['weathersit'] = df['weathersit'].map({1: 'Clear_FewClouds', 2: 'Mist_Cloudy', 3: 'LightSnow_LightRain', 4: 'HeavyRain_IcePallets'})"
   ]
  },
  {
   "cell_type": "code",
   "execution_count": 100,
   "id": "1c2042e3",
   "metadata": {},
   "outputs": [
    {
     "name": "stdout",
     "output_type": "stream",
     "text": [
      "<class 'pandas.core.frame.DataFrame'>\n",
      "RangeIndex: 730 entries, 0 to 729\n",
      "Data columns (total 11 columns):\n",
      " #   Column      Non-Null Count  Dtype   \n",
      "---  ------      --------------  -----   \n",
      " 0   season      730 non-null    category\n",
      " 1   yr          730 non-null    category\n",
      " 2   mnth        730 non-null    category\n",
      " 3   holiday     730 non-null    category\n",
      " 4   weekday     730 non-null    category\n",
      " 5   workingday  730 non-null    category\n",
      " 6   weathersit  730 non-null    category\n",
      " 7   temp        730 non-null    float64 \n",
      " 8   hum         730 non-null    float64 \n",
      " 9   windspeed   730 non-null    float64 \n",
      " 10  cnt         730 non-null    int64   \n",
      "dtypes: category(7), float64(3), int64(1)\n",
      "memory usage: 29.4 KB\n"
     ]
    }
   ],
   "source": [
    "# Check the data info before proceeding for analysis\n",
    "df.info()"
   ]
  },
  {
   "cell_type": "markdown",
   "id": "669eb37e",
   "metadata": {},
   "source": [
    "## Step 2: Visualising the Data"
   ]
  },
  {
   "cell_type": "code",
   "execution_count": 101,
   "id": "1a6fb6a3",
   "metadata": {},
   "outputs": [
    {
     "data": {
      "image/png": "[encoded data removed]",
      "text/plain": [
       "<Figure size 1440x360 with 1 Axes>"
      ]
     },
     "metadata": {
      "needs_background": "light"
     },
     "output_type": "display_data"
    }
   ],
   "source": [
    "# visualise the pattern of demand (target variable - 'cnt') over period of two years\n",
    "plt.figure(figsize=(20,5))\n",
    "plt.plot(df.cnt)\n",
    "plt.show()"
   ]
  },
  {
   "cell_type": "markdown",
   "id": "c0866ebc",
   "metadata": {},
   "source": [
    "<div class=\"alert alert-block alert-success\">\n",
    "<b>Insights:</b><br>"
   ]
  },
  {
   "cell_type": "markdown",
   "id": "e43d8acf",
   "metadata": {},
   "source": [
    "We can observe that there was growth over the period, and recently, we could see there is a drop in demand"
   ]
  },
  {
   "cell_type": "code",
   "execution_count": 102,
   "id": "fef7d512",
   "metadata": {
    "scrolled": false
   },
   "outputs": [
    {
     "data": {
      "image/png": "[encoded data removed]",
      "text/plain": [
       "<Figure size 864x576 with 4 Axes>"
      ]
     },
     "metadata": {
      "needs_background": "light"
     },
     "output_type": "display_data"
    }
   ],
   "source": [
    "# Visualising numerical varibles\n",
    "\n",
    "var = df.select_dtypes(exclude=['category']).columns\n",
    "\n",
    "# Box plot\n",
    "col = 2\n",
    "row = len(var)//col+1\n",
    "\n",
    "plt.figure(figsize=(12,8))\n",
    "plt.rc('font', size=12)\n",
    "for i in list(enumerate(var)):\n",
    "    plt.subplot(row, col, i[0]+1)\n",
    "    sns.boxplot(df[i[1]])    \n",
    "plt.tight_layout()   \n",
    "plt.show()"
   ]
  },
  {
   "cell_type": "markdown",
   "id": "f89071a1",
   "metadata": {},
   "source": [
    "<div class=\"alert alert-block alert-success\">\n",
    "<b>Insights:</b><br>"
   ]
  },
  {
   "cell_type": "markdown",
   "id": "f55ae314",
   "metadata": {},
   "source": [
    "From the above plots it could be observed that hum and windspeed are having few outliers."
   ]
  },
  {
   "cell_type": "code",
   "execution_count": 103,
   "id": "7ce34993",
   "metadata": {},
   "outputs": [
    {
     "name": "stdout",
     "output_type": "stream",
     "text": [
      "Percentage of outlier (hum):  0.27\n",
      "Percentage of outlier (windspeed):  1.78\n"
     ]
    }
   ],
   "source": [
    "# get percentage outlier for hum and windspeed\n",
    "\n",
    "# function to get outlier percentage\n",
    "def percentage_outlier(x):\n",
    "    iqr = df[x].quantile(0.75)-df[x].quantile(0.25)\n",
    "    HL = df[x].quantile(0.75)+iqr*1.5\n",
    "    LL = df[x].quantile(0.25)-iqr*1.5\n",
    "    per_outlier = ((df[x]<LL).sum()+(df[x]>HL).sum())/len(df[x])*100\n",
    "    per_outlier = round(per_outlier,2)\n",
    "    return(per_outlier)\n",
    "\n",
    "print('Percentage of outlier (hum): ', percentage_outlier('hum'))\n",
    "print('Percentage of outlier (windspeed): ', percentage_outlier('windspeed'))"
   ]
  },
  {
   "cell_type": "markdown",
   "id": "2a5d955f",
   "metadata": {},
   "source": [
    "<div class=\"alert alert-block alert-success\">\n",
    "<b>Insights:</b><br>"
   ]
  },
  {
   "cell_type": "markdown",
   "id": "7b0dd509",
   "metadata": {},
   "source": [
    "- Percentage of outlier for `hum` and `windspeed` are `0.27` and `1.78` respectively.\n",
    "- As these percentage is low, and we can see there is no significant abnormal outlier value. So we will leave it as it is."
   ]
  },
  {
   "cell_type": "code",
   "execution_count": 104,
   "id": "f967d22c",
   "metadata": {},
   "outputs": [
    {
     "data": {
      "image/png": "[encoded data removed]",
      "text/plain": [
       "<Figure size 1296x1152 with 7 Axes>"
      ]
     },
     "metadata": {},
     "output_type": "display_data"
    }
   ],
   "source": [
    "# # # Visulalising Categorical Variables using pie chart\n",
    "\n",
    "df_piplot=df.select_dtypes(include='category')\n",
    "plt.figure(figsize=(18,16))\n",
    "plt.suptitle('pie distribution of categorical features', fontsize=20)\n",
    "for i in range(1,df_piplot.shape[1]+1):\n",
    "    plt.subplot(3,3,i)\n",
    "    f=plt.gca()\n",
    "    f.set_title(df_piplot.columns.values[i-1])\n",
    "    values=df_piplot.iloc[:,i-1].value_counts(normalize=True).values\n",
    "    index=df_piplot.iloc[:,i-1].value_counts(normalize=True).index\n",
    "    plt.pie(values,labels=index,autopct='%1.0f%%')\n",
    "# plt.tight_layout(pad = 0.5)\n",
    "plt.show()"
   ]
  },
  {
   "cell_type": "markdown",
   "id": "dfe9890b",
   "metadata": {},
   "source": [
    "<div class=\"alert alert-block alert-success\">\n",
    "<b>Insights:</b><br>"
   ]
  },
  {
   "cell_type": "markdown",
   "id": "dd327468",
   "metadata": {},
   "source": [
    "- `Seasons`:   We could see business was operating similar days in all four seasons.\n",
    "- `Yr`:   Number of days operation in both the year are almost same.\n",
    "- `Month`: We could see business was operating similar days in all 12 months.\n",
    "- `Holiday`: Business was operating in 3% days of holiday\n",
    "- `weekdays`: We could see business was operating similar percentage in all weekdays.\n",
    "- `Workingday`: Bisuness was operating in 68% in workign days and 32% in nonworking days.\n",
    "- `Weathersit`: From the above analaysis it is being observed that there is no data for 4th category of `weathersit i.e Heavy Rain + Ice Pallets + Thunderstorm + Mist, Snow + Fog`. May be the company is not operating on those days or there was no demand of bike."
   ]
  },
  {
   "cell_type": "code",
   "execution_count": 105,
   "id": "ffb59b64",
   "metadata": {},
   "outputs": [
    {
     "data": {
      "image/png": "[encoded data removed]",
      "text/plain": [
       "<Figure size 720x720 with 20 Axes>"
      ]
     },
     "metadata": {
      "needs_background": "light"
     },
     "output_type": "display_data"
    }
   ],
   "source": [
    "# pairplot for continuous data type\n",
    "sns.pairplot(df.select_dtypes(['int64','float64']), diag_kind='kde')\n",
    "plt.show()"
   ]
  },
  {
   "cell_type": "markdown",
   "id": "7b68150d",
   "metadata": {},
   "source": [
    "<div class=\"alert alert-block alert-success\">\n",
    "<b>Insights:</b><br>"
   ]
  },
  {
   "cell_type": "markdown",
   "id": "55ca4fd9",
   "metadata": {},
   "source": [
    "From the above pairplot we could observe that, `temp` has highest positive correlation with target variable `cnt`"
   ]
  },
  {
   "cell_type": "code",
   "execution_count": 106,
   "id": "46d696ce",
   "metadata": {
    "scrolled": true
   },
   "outputs": [
    {
     "data": {
      "image/png": "[encoded data removed]",
      "text/plain": [
       "<Figure size 432x288 with 2 Axes>"
      ]
     },
     "metadata": {
      "needs_background": "light"
     },
     "output_type": "display_data"
    }
   ],
   "source": [
    "# look at the correlation between continuous variables using heat map\n",
    "sns.heatmap(df.corr(), annot=True, cmap='coolwarm')\n",
    "plt.show()"
   ]
  },
  {
   "cell_type": "markdown",
   "id": "b1234060",
   "metadata": {},
   "source": [
    "<div class=\"alert alert-block alert-success\">\n",
    "<b>Insights:</b><br>"
   ]
  },
  {
   "cell_type": "markdown",
   "id": "e52888bc",
   "metadata": {},
   "source": [
    "- A positive correalation observed between `cnt` and `temp` (0.63)\n",
    "- A Negative correlation observed for `cnt` with `hum` and `windspeed` (-0.099 and -0.24)"
   ]
  },
  {
   "cell_type": "code",
   "execution_count": 107,
   "id": "19166969",
   "metadata": {},
   "outputs": [
    {
     "data": {
      "image/png": "[encoded data removed]",
      "text/plain": [
       "<Figure size 1080x864 with 7 Axes>"
      ]
     },
     "metadata": {
      "needs_background": "light"
     },
     "output_type": "display_data"
    }
   ],
   "source": [
    "# Box plot for categorical variables\n",
    "col = 3\n",
    "row = len(cat_vars)//col+1\n",
    "\n",
    "plt.figure(figsize=(15,12))\n",
    "for i in list(enumerate(cat_vars)):\n",
    "    plt.subplot(row,col,i[0]+1)\n",
    "    sns.boxplot(x = i[1], y = 'cnt', data = df)\n",
    "    plt.xticks(rotation = 90)\n",
    "plt.tight_layout(pad = 1)    \n",
    "plt.show()"
   ]
  },
  {
   "cell_type": "markdown",
   "id": "20ec688e",
   "metadata": {},
   "source": [
    "<div class=\"alert alert-block alert-success\"> <b>Insights:</b></div>"
   ]
  },
  {
   "cell_type": "markdown",
   "id": "f1c9d214",
   "metadata": {},
   "source": [
    "- `Seasons`: We could see business was operating similar days in all four seasons.\n",
    "- `Yr`: Number of days operation in both the year are almost same.\n",
    "- `Month`: We could see business was operating similar days in all 12 months.\n",
    "- `Holiday`: Business was operating in 3% days of holiday\n",
    "- `weekdays`: We could see business was operating similar percentage in all weekdays.\n",
    "- `Workingday`: Bisuness was operating in 68% in workign days and 32% in nonworking days.\n",
    "- `Weathersit`: From the above analaysis it is being observed that there is no data for 4th category of `weathersit i.e Heavy Rain + Ice Pallets + Thunderstorm + Mist, Snow + Fog`.May be the company is not operating on those days or there was no demand of bike."
   ]
  },
  {
   "cell_type": "markdown",
   "id": "f86fcaf1",
   "metadata": {},
   "source": [
    "## Step 3: Data Preparation"
   ]
  },
  {
   "cell_type": "markdown",
   "id": "4bd84294",
   "metadata": {},
   "source": [
    "### 3.1 Creating of dummy variables"
   ]
  },
  {
   "cell_type": "code",
   "execution_count": 108,
   "id": "b276439c",
   "metadata": {},
   "outputs": [
    {
     "data": {
      "text/html": [
       "<div>\n",
       "<style scoped>\n",
       "    .dataframe tbody tr th:only-of-type {\n",
       "        vertical-align: middle;\n",
       "    }\n",
       "\n",
       "    .dataframe tbody tr th {\n",
       "        vertical-align: top;\n",
       "    }\n",
       "\n",
       "    .dataframe thead th {\n",
       "        text-align: right;\n",
       "    }\n",
       "</style>\n",
       "<table border=\"1\" class=\"dataframe\">\n",
       "  <thead>\n",
       "    <tr style=\"text-align: right;\">\n",
       "      <th></th>\n",
       "      <th>yr</th>\n",
       "      <th>holiday</th>\n",
       "      <th>workingday</th>\n",
       "      <th>temp</th>\n",
       "      <th>hum</th>\n",
       "      <th>windspeed</th>\n",
       "      <th>cnt</th>\n",
       "      <th>season_summer</th>\n",
       "      <th>season_fall</th>\n",
       "      <th>season_winter</th>\n",
       "      <th>...</th>\n",
       "      <th>mnth_may</th>\n",
       "      <th>mnth_jun</th>\n",
       "      <th>mnth_jul</th>\n",
       "      <th>mnth_aug</th>\n",
       "      <th>mnth_sep</th>\n",
       "      <th>mnth_oct</th>\n",
       "      <th>mnth_nov</th>\n",
       "      <th>mnth_dec</th>\n",
       "      <th>weathersit_Mist_Cloudy</th>\n",
       "      <th>weathersit_LightSnow_LightRain</th>\n",
       "    </tr>\n",
       "  </thead>\n",
       "  <tbody>\n",
       "    <tr>\n",
       "      <th>0</th>\n",
       "      <td>0</td>\n",
       "      <td>0</td>\n",
       "      <td>0</td>\n",
       "      <td>14.110847</td>\n",
       "      <td>80.5833</td>\n",
       "      <td>10.749882</td>\n",
       "      <td>985</td>\n",
       "      <td>0</td>\n",
       "      <td>0</td>\n",
       "      <td>0</td>\n",
       "      <td>...</td>\n",
       "      <td>0</td>\n",
       "      <td>0</td>\n",
       "      <td>0</td>\n",
       "      <td>0</td>\n",
       "      <td>0</td>\n",
       "      <td>0</td>\n",
       "      <td>0</td>\n",
       "      <td>0</td>\n",
       "      <td>1</td>\n",
       "      <td>0</td>\n",
       "    </tr>\n",
       "    <tr>\n",
       "      <th>1</th>\n",
       "      <td>0</td>\n",
       "      <td>0</td>\n",
       "      <td>0</td>\n",
       "      <td>14.902598</td>\n",
       "      <td>69.6087</td>\n",
       "      <td>16.652113</td>\n",
       "      <td>801</td>\n",
       "      <td>0</td>\n",
       "      <td>0</td>\n",
       "      <td>0</td>\n",
       "      <td>...</td>\n",
       "      <td>0</td>\n",
       "      <td>0</td>\n",
       "      <td>0</td>\n",
       "      <td>0</td>\n",
       "      <td>0</td>\n",
       "      <td>0</td>\n",
       "      <td>0</td>\n",
       "      <td>0</td>\n",
       "      <td>1</td>\n",
       "      <td>0</td>\n",
       "    </tr>\n",
       "    <tr>\n",
       "      <th>2</th>\n",
       "      <td>0</td>\n",
       "      <td>0</td>\n",
       "      <td>1</td>\n",
       "      <td>8.050924</td>\n",
       "      <td>43.7273</td>\n",
       "      <td>16.636703</td>\n",
       "      <td>1349</td>\n",
       "      <td>0</td>\n",
       "      <td>0</td>\n",
       "      <td>0</td>\n",
       "      <td>...</td>\n",
       "      <td>0</td>\n",
       "      <td>0</td>\n",
       "      <td>0</td>\n",
       "      <td>0</td>\n",
       "      <td>0</td>\n",
       "      <td>0</td>\n",
       "      <td>0</td>\n",
       "      <td>0</td>\n",
       "      <td>0</td>\n",
       "      <td>0</td>\n",
       "    </tr>\n",
       "    <tr>\n",
       "      <th>3</th>\n",
       "      <td>0</td>\n",
       "      <td>0</td>\n",
       "      <td>1</td>\n",
       "      <td>8.200000</td>\n",
       "      <td>59.0435</td>\n",
       "      <td>10.739832</td>\n",
       "      <td>1562</td>\n",
       "      <td>0</td>\n",
       "      <td>0</td>\n",
       "      <td>0</td>\n",
       "      <td>...</td>\n",
       "      <td>0</td>\n",
       "      <td>0</td>\n",
       "      <td>0</td>\n",
       "      <td>0</td>\n",
       "      <td>0</td>\n",
       "      <td>0</td>\n",
       "      <td>0</td>\n",
       "      <td>0</td>\n",
       "      <td>0</td>\n",
       "      <td>0</td>\n",
       "    </tr>\n",
       "    <tr>\n",
       "      <th>4</th>\n",
       "      <td>0</td>\n",
       "      <td>0</td>\n",
       "      <td>1</td>\n",
       "      <td>9.305237</td>\n",
       "      <td>43.6957</td>\n",
       "      <td>12.522300</td>\n",
       "      <td>1600</td>\n",
       "      <td>0</td>\n",
       "      <td>0</td>\n",
       "      <td>0</td>\n",
       "      <td>...</td>\n",
       "      <td>0</td>\n",
       "      <td>0</td>\n",
       "      <td>0</td>\n",
       "      <td>0</td>\n",
       "      <td>0</td>\n",
       "      <td>0</td>\n",
       "      <td>0</td>\n",
       "      <td>0</td>\n",
       "      <td>0</td>\n",
       "      <td>0</td>\n",
       "    </tr>\n",
       "  </tbody>\n",
       "</table>\n",
       "<p>5 rows × 29 columns</p>\n",
       "</div>"
      ],
      "text/plain": [
       "  yr holiday workingday       temp      hum  windspeed   cnt  season_summer  \\\n",
       "0  0       0          0  14.110847  80.5833  10.749882   985              0   \n",
       "1  0       0          0  14.902598  69.6087  16.652113   801              0   \n",
       "2  0       0          1   8.050924  43.7273  16.636703  1349              0   \n",
       "3  0       0          1   8.200000  59.0435  10.739832  1562              0   \n",
       "4  0       0          1   9.305237  43.6957  12.522300  1600              0   \n",
       "\n",
       "   season_fall  season_winter  ...  mnth_may  mnth_jun  mnth_jul  mnth_aug  \\\n",
       "0            0              0  ...         0         0         0         0   \n",
       "1            0              0  ...         0         0         0         0   \n",
       "2            0              0  ...         0         0         0         0   \n",
       "3            0              0  ...         0         0         0         0   \n",
       "4            0              0  ...         0         0         0         0   \n",
       "\n",
       "   mnth_sep  mnth_oct  mnth_nov  mnth_dec  weathersit_Mist_Cloudy  \\\n",
       "0         0         0         0         0                       1   \n",
       "1         0         0         0         0                       1   \n",
       "2         0         0         0         0                       0   \n",
       "3         0         0         0         0                       0   \n",
       "4         0         0         0         0                       0   \n",
       "\n",
       "   weathersit_LightSnow_LightRain  \n",
       "0                               0  \n",
       "1                               0  \n",
       "2                               0  \n",
       "3                               0  \n",
       "4                               0  \n",
       "\n",
       "[5 rows x 29 columns]"
      ]
     },
     "execution_count": 108,
     "metadata": {},
     "output_type": "execute_result"
    }
   ],
   "source": [
    "# get dummy variables for season, weekday, mnth and weathersit\n",
    "dummy_vars = pd.get_dummies(df[['season','weekday','mnth','weathersit']],drop_first=True)\n",
    "\n",
    "# concat the dummy df with original df\n",
    "df = pd.concat([df,dummy_vars], axis = 1)\n",
    "\n",
    "# drop season column\n",
    "df.drop(['season','weekday','mnth','weathersit'], axis=1, inplace=True)\n",
    "\n",
    "df.head()"
   ]
  },
  {
   "cell_type": "code",
   "execution_count": 109,
   "id": "17fdfed0",
   "metadata": {},
   "outputs": [
    {
     "data": {
      "text/plain": [
       "(730, 29)"
      ]
     },
     "execution_count": 109,
     "metadata": {},
     "output_type": "execute_result"
    }
   ],
   "source": [
    "# check data frame\n",
    "df.shape"
   ]
  },
  {
   "cell_type": "code",
   "execution_count": 110,
   "id": "e55800cc",
   "metadata": {},
   "outputs": [
    {
     "name": "stdout",
     "output_type": "stream",
     "text": [
      "<class 'pandas.core.frame.DataFrame'>\n",
      "RangeIndex: 730 entries, 0 to 729\n",
      "Data columns (total 29 columns):\n",
      " #   Column                          Non-Null Count  Dtype   \n",
      "---  ------                          --------------  -----   \n",
      " 0   yr                              730 non-null    category\n",
      " 1   holiday                         730 non-null    category\n",
      " 2   workingday                      730 non-null    category\n",
      " 3   temp                            730 non-null    float64 \n",
      " 4   hum                             730 non-null    float64 \n",
      " 5   windspeed                       730 non-null    float64 \n",
      " 6   cnt                             730 non-null    int64   \n",
      " 7   season_summer                   730 non-null    uint8   \n",
      " 8   season_fall                     730 non-null    uint8   \n",
      " 9   season_winter                   730 non-null    uint8   \n",
      " 10  weekday_Mon                     730 non-null    uint8   \n",
      " 11  weekday_Tue                     730 non-null    uint8   \n",
      " 12  weekday_Wed                     730 non-null    uint8   \n",
      " 13  weekday_Thu                     730 non-null    uint8   \n",
      " 14  weekday_Fri                     730 non-null    uint8   \n",
      " 15  weekday_Sat                     730 non-null    uint8   \n",
      " 16  mnth_feb                        730 non-null    uint8   \n",
      " 17  mnth_mar                        730 non-null    uint8   \n",
      " 18  mnth_apr                        730 non-null    uint8   \n",
      " 19  mnth_may                        730 non-null    uint8   \n",
      " 20  mnth_jun                        730 non-null    uint8   \n",
      " 21  mnth_jul                        730 non-null    uint8   \n",
      " 22  mnth_aug                        730 non-null    uint8   \n",
      " 23  mnth_sep                        730 non-null    uint8   \n",
      " 24  mnth_oct                        730 non-null    uint8   \n",
      " 25  mnth_nov                        730 non-null    uint8   \n",
      " 26  mnth_dec                        730 non-null    uint8   \n",
      " 27  weathersit_Mist_Cloudy          730 non-null    uint8   \n",
      " 28  weathersit_LightSnow_LightRain  730 non-null    uint8   \n",
      "dtypes: category(3), float64(3), int64(1), uint8(22)\n",
      "memory usage: 41.1 KB\n"
     ]
    }
   ],
   "source": [
    "# Check datafrmae\n",
    "df.info()"
   ]
  },
  {
   "cell_type": "markdown",
   "id": "b55440fc",
   "metadata": {},
   "source": [
    "<div class=\"alert alert-block alert-warning\">\n",
    "    <b>Info:</b></div>"
   ]
  },
  {
   "cell_type": "markdown",
   "id": "017e016e",
   "metadata": {},
   "source": [
    "`yr`, `holiday` and `working day` columns show datatype as categorical, but these data are 0 and 1. So we will convert these data type to uint8"
   ]
  },
  {
   "cell_type": "code",
   "execution_count": 111,
   "id": "69f75d78",
   "metadata": {},
   "outputs": [
    {
     "name": "stdout",
     "output_type": "stream",
     "text": [
      "<class 'pandas.core.frame.DataFrame'>\n",
      "RangeIndex: 730 entries, 0 to 729\n",
      "Data columns (total 29 columns):\n",
      " #   Column                          Non-Null Count  Dtype  \n",
      "---  ------                          --------------  -----  \n",
      " 0   yr                              730 non-null    uint8  \n",
      " 1   holiday                         730 non-null    uint8  \n",
      " 2   workingday                      730 non-null    uint8  \n",
      " 3   temp                            730 non-null    float64\n",
      " 4   hum                             730 non-null    float64\n",
      " 5   windspeed                       730 non-null    float64\n",
      " 6   cnt                             730 non-null    int64  \n",
      " 7   season_summer                   730 non-null    uint8  \n",
      " 8   season_fall                     730 non-null    uint8  \n",
      " 9   season_winter                   730 non-null    uint8  \n",
      " 10  weekday_Mon                     730 non-null    uint8  \n",
      " 11  weekday_Tue                     730 non-null    uint8  \n",
      " 12  weekday_Wed                     730 non-null    uint8  \n",
      " 13  weekday_Thu                     730 non-null    uint8  \n",
      " 14  weekday_Fri                     730 non-null    uint8  \n",
      " 15  weekday_Sat                     730 non-null    uint8  \n",
      " 16  mnth_feb                        730 non-null    uint8  \n",
      " 17  mnth_mar                        730 non-null    uint8  \n",
      " 18  mnth_apr                        730 non-null    uint8  \n",
      " 19  mnth_may                        730 non-null    uint8  \n",
      " 20  mnth_jun                        730 non-null    uint8  \n",
      " 21  mnth_jul                        730 non-null    uint8  \n",
      " 22  mnth_aug                        730 non-null    uint8  \n",
      " 23  mnth_sep                        730 non-null    uint8  \n",
      " 24  mnth_oct                        730 non-null    uint8  \n",
      " 25  mnth_nov                        730 non-null    uint8  \n",
      " 26  mnth_dec                        730 non-null    uint8  \n",
      " 27  weathersit_Mist_Cloudy          730 non-null    uint8  \n",
      " 28  weathersit_LightSnow_LightRain  730 non-null    uint8  \n",
      "dtypes: float64(3), int64(1), uint8(25)\n",
      "memory usage: 40.8 KB\n"
     ]
    }
   ],
   "source": [
    "# Convert categorical columns to numeric \n",
    "df[['yr','holiday','workingday']]= df[['yr','holiday','workingday']].astype('uint8')\n",
    "df.info()"
   ]
  },
  {
   "cell_type": "markdown",
   "id": "54c0461e",
   "metadata": {},
   "source": [
    "### 3.2 Splitting data into test and train set"
   ]
  },
  {
   "cell_type": "code",
   "execution_count": 112,
   "id": "d1c5e41c",
   "metadata": {
    "scrolled": true
   },
   "outputs": [
    {
     "name": "stdout",
     "output_type": "stream",
     "text": [
      "(510, 29)\n",
      "(220, 29)\n"
     ]
    }
   ],
   "source": [
    "# Split train test dataset\n",
    "df_train, df_test = train_test_split(df, train_size = 0.7, random_state = 10 )\n",
    "print(df_train.shape)\n",
    "print(df_test.shape)"
   ]
  },
  {
   "cell_type": "markdown",
   "id": "219e022f",
   "metadata": {},
   "source": [
    "### 3.3 Scaling data set"
   ]
  },
  {
   "cell_type": "markdown",
   "id": "7e45f7bc",
   "metadata": {},
   "source": [
    "- During EDA we could observe that there is different range of data in the data set. So it becomes important to scale the data.\n",
    "- Here we will be using Min-Max scaling (normalisation) to scale both training and tesing dataset."
   ]
  },
  {
   "cell_type": "markdown",
   "id": "fc997476",
   "metadata": {},
   "source": [
    "**Training Data scaling**"
   ]
  },
  {
   "cell_type": "code",
   "execution_count": 113,
   "id": "53823298",
   "metadata": {},
   "outputs": [
    {
     "data": {
      "text/html": [
       "<div>\n",
       "<style scoped>\n",
       "    .dataframe tbody tr th:only-of-type {\n",
       "        vertical-align: middle;\n",
       "    }\n",
       "\n",
       "    .dataframe tbody tr th {\n",
       "        vertical-align: top;\n",
       "    }\n",
       "\n",
       "    .dataframe thead th {\n",
       "        text-align: right;\n",
       "    }\n",
       "</style>\n",
       "<table border=\"1\" class=\"dataframe\">\n",
       "  <thead>\n",
       "    <tr style=\"text-align: right;\">\n",
       "      <th></th>\n",
       "      <th>yr</th>\n",
       "      <th>holiday</th>\n",
       "      <th>workingday</th>\n",
       "      <th>temp</th>\n",
       "      <th>hum</th>\n",
       "      <th>windspeed</th>\n",
       "      <th>cnt</th>\n",
       "      <th>season_summer</th>\n",
       "      <th>season_fall</th>\n",
       "      <th>season_winter</th>\n",
       "      <th>...</th>\n",
       "      <th>mnth_may</th>\n",
       "      <th>mnth_jun</th>\n",
       "      <th>mnth_jul</th>\n",
       "      <th>mnth_aug</th>\n",
       "      <th>mnth_sep</th>\n",
       "      <th>mnth_oct</th>\n",
       "      <th>mnth_nov</th>\n",
       "      <th>mnth_dec</th>\n",
       "      <th>weathersit_Mist_Cloudy</th>\n",
       "      <th>weathersit_LightSnow_LightRain</th>\n",
       "    </tr>\n",
       "  </thead>\n",
       "  <tbody>\n",
       "    <tr>\n",
       "      <th>72</th>\n",
       "      <td>0</td>\n",
       "      <td>0</td>\n",
       "      <td>1</td>\n",
       "      <td>0.298094</td>\n",
       "      <td>0.393891</td>\n",
       "      <td>0.236118</td>\n",
       "      <td>0.194978</td>\n",
       "      <td>0</td>\n",
       "      <td>0</td>\n",
       "      <td>0</td>\n",
       "      <td>...</td>\n",
       "      <td>0</td>\n",
       "      <td>0</td>\n",
       "      <td>0</td>\n",
       "      <td>0</td>\n",
       "      <td>0</td>\n",
       "      <td>0</td>\n",
       "      <td>0</td>\n",
       "      <td>0</td>\n",
       "      <td>0</td>\n",
       "      <td>0</td>\n",
       "    </tr>\n",
       "    <tr>\n",
       "      <th>510</th>\n",
       "      <td>1</td>\n",
       "      <td>0</td>\n",
       "      <td>0</td>\n",
       "      <td>0.778657</td>\n",
       "      <td>0.694105</td>\n",
       "      <td>0.364071</td>\n",
       "      <td>0.737052</td>\n",
       "      <td>1</td>\n",
       "      <td>0</td>\n",
       "      <td>0</td>\n",
       "      <td>...</td>\n",
       "      <td>1</td>\n",
       "      <td>0</td>\n",
       "      <td>0</td>\n",
       "      <td>0</td>\n",
       "      <td>0</td>\n",
       "      <td>0</td>\n",
       "      <td>0</td>\n",
       "      <td>0</td>\n",
       "      <td>0</td>\n",
       "      <td>0</td>\n",
       "    </tr>\n",
       "    <tr>\n",
       "      <th>700</th>\n",
       "      <td>1</td>\n",
       "      <td>0</td>\n",
       "      <td>0</td>\n",
       "      <td>0.327249</td>\n",
       "      <td>0.809877</td>\n",
       "      <td>0.210252</td>\n",
       "      <td>0.509236</td>\n",
       "      <td>0</td>\n",
       "      <td>0</td>\n",
       "      <td>1</td>\n",
       "      <td>...</td>\n",
       "      <td>0</td>\n",
       "      <td>0</td>\n",
       "      <td>0</td>\n",
       "      <td>0</td>\n",
       "      <td>0</td>\n",
       "      <td>0</td>\n",
       "      <td>0</td>\n",
       "      <td>1</td>\n",
       "      <td>1</td>\n",
       "      <td>0</td>\n",
       "    </tr>\n",
       "    <tr>\n",
       "      <th>264</th>\n",
       "      <td>0</td>\n",
       "      <td>0</td>\n",
       "      <td>1</td>\n",
       "      <td>0.694699</td>\n",
       "      <td>0.910249</td>\n",
       "      <td>0.217975</td>\n",
       "      <td>0.526862</td>\n",
       "      <td>0</td>\n",
       "      <td>1</td>\n",
       "      <td>0</td>\n",
       "      <td>...</td>\n",
       "      <td>0</td>\n",
       "      <td>0</td>\n",
       "      <td>0</td>\n",
       "      <td>0</td>\n",
       "      <td>1</td>\n",
       "      <td>0</td>\n",
       "      <td>0</td>\n",
       "      <td>0</td>\n",
       "      <td>1</td>\n",
       "      <td>0</td>\n",
       "    </tr>\n",
       "    <tr>\n",
       "      <th>577</th>\n",
       "      <td>1</td>\n",
       "      <td>0</td>\n",
       "      <td>1</td>\n",
       "      <td>0.811368</td>\n",
       "      <td>0.624004</td>\n",
       "      <td>0.244886</td>\n",
       "      <td>0.863093</td>\n",
       "      <td>0</td>\n",
       "      <td>1</td>\n",
       "      <td>0</td>\n",
       "      <td>...</td>\n",
       "      <td>0</td>\n",
       "      <td>0</td>\n",
       "      <td>0</td>\n",
       "      <td>1</td>\n",
       "      <td>0</td>\n",
       "      <td>0</td>\n",
       "      <td>0</td>\n",
       "      <td>0</td>\n",
       "      <td>0</td>\n",
       "      <td>0</td>\n",
       "    </tr>\n",
       "  </tbody>\n",
       "</table>\n",
       "<p>5 rows × 29 columns</p>\n",
       "</div>"
      ],
      "text/plain": [
       "     yr  holiday  workingday      temp       hum  windspeed       cnt  \\\n",
       "72    0        0           1  0.298094  0.393891   0.236118  0.194978   \n",
       "510   1        0           0  0.778657  0.694105   0.364071  0.737052   \n",
       "700   1        0           0  0.327249  0.809877   0.210252  0.509236   \n",
       "264   0        0           1  0.694699  0.910249   0.217975  0.526862   \n",
       "577   1        0           1  0.811368  0.624004   0.244886  0.863093   \n",
       "\n",
       "     season_summer  season_fall  season_winter  ...  mnth_may  mnth_jun  \\\n",
       "72               0            0              0  ...         0         0   \n",
       "510              1            0              0  ...         1         0   \n",
       "700              0            0              1  ...         0         0   \n",
       "264              0            1              0  ...         0         0   \n",
       "577              0            1              0  ...         0         0   \n",
       "\n",
       "     mnth_jul  mnth_aug  mnth_sep  mnth_oct  mnth_nov  mnth_dec  \\\n",
       "72          0         0         0         0         0         0   \n",
       "510         0         0         0         0         0         0   \n",
       "700         0         0         0         0         0         1   \n",
       "264         0         0         1         0         0         0   \n",
       "577         0         1         0         0         0         0   \n",
       "\n",
       "     weathersit_Mist_Cloudy  weathersit_LightSnow_LightRain  \n",
       "72                        0                               0  \n",
       "510                       0                               0  \n",
       "700                       1                               0  \n",
       "264                       1                               0  \n",
       "577                       0                               0  \n",
       "\n",
       "[5 rows x 29 columns]"
      ]
     },
     "execution_count": 113,
     "metadata": {},
     "output_type": "execute_result"
    }
   ],
   "source": [
    "# Scaling of train set\n",
    "\n",
    "# instantiate an object\n",
    "scaler = MinMaxScaler()\n",
    "\n",
    "# fit and transform on training data\n",
    "df_train[num_vars] = scaler.fit_transform(df_train[num_vars])\n",
    "df_train.head()"
   ]
  },
  {
   "cell_type": "markdown",
   "id": "aa49e1fa",
   "metadata": {},
   "source": [
    "**Testing Data scaling**"
   ]
  },
  {
   "cell_type": "code",
   "execution_count": 114,
   "id": "0b404bfb",
   "metadata": {},
   "outputs": [
    {
     "data": {
      "text/html": [
       "<div>\n",
       "<style scoped>\n",
       "    .dataframe tbody tr th:only-of-type {\n",
       "        vertical-align: middle;\n",
       "    }\n",
       "\n",
       "    .dataframe tbody tr th {\n",
       "        vertical-align: top;\n",
       "    }\n",
       "\n",
       "    .dataframe thead th {\n",
       "        text-align: right;\n",
       "    }\n",
       "</style>\n",
       "<table border=\"1\" class=\"dataframe\">\n",
       "  <thead>\n",
       "    <tr style=\"text-align: right;\">\n",
       "      <th></th>\n",
       "      <th>yr</th>\n",
       "      <th>holiday</th>\n",
       "      <th>workingday</th>\n",
       "      <th>temp</th>\n",
       "      <th>hum</th>\n",
       "      <th>windspeed</th>\n",
       "      <th>cnt</th>\n",
       "      <th>season_summer</th>\n",
       "      <th>season_fall</th>\n",
       "      <th>season_winter</th>\n",
       "      <th>...</th>\n",
       "      <th>mnth_may</th>\n",
       "      <th>mnth_jun</th>\n",
       "      <th>mnth_jul</th>\n",
       "      <th>mnth_aug</th>\n",
       "      <th>mnth_sep</th>\n",
       "      <th>mnth_oct</th>\n",
       "      <th>mnth_nov</th>\n",
       "      <th>mnth_dec</th>\n",
       "      <th>weathersit_Mist_Cloudy</th>\n",
       "      <th>weathersit_LightSnow_LightRain</th>\n",
       "    </tr>\n",
       "  </thead>\n",
       "  <tbody>\n",
       "    <tr>\n",
       "      <th>566</th>\n",
       "      <td>1</td>\n",
       "      <td>0</td>\n",
       "      <td>0</td>\n",
       "      <td>24.429153</td>\n",
       "      <td>86.5417</td>\n",
       "      <td>14.291100</td>\n",
       "      <td>4459</td>\n",
       "      <td>0</td>\n",
       "      <td>1</td>\n",
       "      <td>0</td>\n",
       "      <td>...</td>\n",
       "      <td>0</td>\n",
       "      <td>0</td>\n",
       "      <td>1</td>\n",
       "      <td>0</td>\n",
       "      <td>0</td>\n",
       "      <td>0</td>\n",
       "      <td>0</td>\n",
       "      <td>0</td>\n",
       "      <td>0</td>\n",
       "      <td>1</td>\n",
       "    </tr>\n",
       "    <tr>\n",
       "      <th>374</th>\n",
       "      <td>1</td>\n",
       "      <td>0</td>\n",
       "      <td>1</td>\n",
       "      <td>12.656536</td>\n",
       "      <td>64.6522</td>\n",
       "      <td>12.565984</td>\n",
       "      <td>3598</td>\n",
       "      <td>0</td>\n",
       "      <td>0</td>\n",
       "      <td>0</td>\n",
       "      <td>...</td>\n",
       "      <td>0</td>\n",
       "      <td>0</td>\n",
       "      <td>0</td>\n",
       "      <td>0</td>\n",
       "      <td>0</td>\n",
       "      <td>0</td>\n",
       "      <td>0</td>\n",
       "      <td>0</td>\n",
       "      <td>0</td>\n",
       "      <td>0</td>\n",
       "    </tr>\n",
       "    <tr>\n",
       "      <th>181</th>\n",
       "      <td>0</td>\n",
       "      <td>0</td>\n",
       "      <td>1</td>\n",
       "      <td>29.622500</td>\n",
       "      <td>39.6250</td>\n",
       "      <td>6.874736</td>\n",
       "      <td>5362</td>\n",
       "      <td>0</td>\n",
       "      <td>1</td>\n",
       "      <td>0</td>\n",
       "      <td>...</td>\n",
       "      <td>0</td>\n",
       "      <td>0</td>\n",
       "      <td>1</td>\n",
       "      <td>0</td>\n",
       "      <td>0</td>\n",
       "      <td>0</td>\n",
       "      <td>0</td>\n",
       "      <td>0</td>\n",
       "      <td>0</td>\n",
       "      <td>0</td>\n",
       "    </tr>\n",
       "    <tr>\n",
       "      <th>529</th>\n",
       "      <td>1</td>\n",
       "      <td>0</td>\n",
       "      <td>1</td>\n",
       "      <td>26.581653</td>\n",
       "      <td>56.9583</td>\n",
       "      <td>17.000111</td>\n",
       "      <td>7363</td>\n",
       "      <td>1</td>\n",
       "      <td>0</td>\n",
       "      <td>0</td>\n",
       "      <td>...</td>\n",
       "      <td>0</td>\n",
       "      <td>1</td>\n",
       "      <td>0</td>\n",
       "      <td>0</td>\n",
       "      <td>0</td>\n",
       "      <td>0</td>\n",
       "      <td>0</td>\n",
       "      <td>0</td>\n",
       "      <td>0</td>\n",
       "      <td>0</td>\n",
       "    </tr>\n",
       "    <tr>\n",
       "      <th>233</th>\n",
       "      <td>0</td>\n",
       "      <td>0</td>\n",
       "      <td>1</td>\n",
       "      <td>28.358347</td>\n",
       "      <td>47.0000</td>\n",
       "      <td>18.542250</td>\n",
       "      <td>4758</td>\n",
       "      <td>0</td>\n",
       "      <td>1</td>\n",
       "      <td>0</td>\n",
       "      <td>...</td>\n",
       "      <td>0</td>\n",
       "      <td>0</td>\n",
       "      <td>0</td>\n",
       "      <td>1</td>\n",
       "      <td>0</td>\n",
       "      <td>0</td>\n",
       "      <td>0</td>\n",
       "      <td>0</td>\n",
       "      <td>0</td>\n",
       "      <td>0</td>\n",
       "    </tr>\n",
       "  </tbody>\n",
       "</table>\n",
       "<p>5 rows × 29 columns</p>\n",
       "</div>"
      ],
      "text/plain": [
       "     yr  holiday  workingday       temp      hum  windspeed   cnt  \\\n",
       "566   1        0           0  24.429153  86.5417  14.291100  4459   \n",
       "374   1        0           1  12.656536  64.6522  12.565984  3598   \n",
       "181   0        0           1  29.622500  39.6250   6.874736  5362   \n",
       "529   1        0           1  26.581653  56.9583  17.000111  7363   \n",
       "233   0        0           1  28.358347  47.0000  18.542250  4758   \n",
       "\n",
       "     season_summer  season_fall  season_winter  ...  mnth_may  mnth_jun  \\\n",
       "566              0            1              0  ...         0         0   \n",
       "374              0            0              0  ...         0         0   \n",
       "181              0            1              0  ...         0         0   \n",
       "529              1            0              0  ...         0         1   \n",
       "233              0            1              0  ...         0         0   \n",
       "\n",
       "     mnth_jul  mnth_aug  mnth_sep  mnth_oct  mnth_nov  mnth_dec  \\\n",
       "566         1         0         0         0         0         0   \n",
       "374         0         0         0         0         0         0   \n",
       "181         1         0         0         0         0         0   \n",
       "529         0         0         0         0         0         0   \n",
       "233         0         1         0         0         0         0   \n",
       "\n",
       "     weathersit_Mist_Cloudy  weathersit_LightSnow_LightRain  \n",
       "566                       0                               1  \n",
       "374                       0                               0  \n",
       "181                       0                               0  \n",
       "529                       0                               0  \n",
       "233                       0                               0  \n",
       "\n",
       "[5 rows x 29 columns]"
      ]
     },
     "execution_count": 114,
     "metadata": {},
     "output_type": "execute_result"
    }
   ],
   "source": [
    "# check test dataset before scaling\n",
    "df_test.head()"
   ]
  },
  {
   "cell_type": "code",
   "execution_count": 115,
   "id": "af22e8a6",
   "metadata": {},
   "outputs": [
    {
     "data": {
      "text/html": [
       "<div>\n",
       "<style scoped>\n",
       "    .dataframe tbody tr th:only-of-type {\n",
       "        vertical-align: middle;\n",
       "    }\n",
       "\n",
       "    .dataframe tbody tr th {\n",
       "        vertical-align: top;\n",
       "    }\n",
       "\n",
       "    .dataframe thead th {\n",
       "        text-align: right;\n",
       "    }\n",
       "</style>\n",
       "<table border=\"1\" class=\"dataframe\">\n",
       "  <thead>\n",
       "    <tr style=\"text-align: right;\">\n",
       "      <th></th>\n",
       "      <th>yr</th>\n",
       "      <th>holiday</th>\n",
       "      <th>workingday</th>\n",
       "      <th>temp</th>\n",
       "      <th>hum</th>\n",
       "      <th>windspeed</th>\n",
       "      <th>cnt</th>\n",
       "      <th>season_summer</th>\n",
       "      <th>season_fall</th>\n",
       "      <th>season_winter</th>\n",
       "      <th>...</th>\n",
       "      <th>mnth_may</th>\n",
       "      <th>mnth_jun</th>\n",
       "      <th>mnth_jul</th>\n",
       "      <th>mnth_aug</th>\n",
       "      <th>mnth_sep</th>\n",
       "      <th>mnth_oct</th>\n",
       "      <th>mnth_nov</th>\n",
       "      <th>mnth_dec</th>\n",
       "      <th>weathersit_Mist_Cloudy</th>\n",
       "      <th>weathersit_LightSnow_LightRain</th>\n",
       "    </tr>\n",
       "  </thead>\n",
       "  <tbody>\n",
       "    <tr>\n",
       "      <th>566</th>\n",
       "      <td>1</td>\n",
       "      <td>0</td>\n",
       "      <td>0</td>\n",
       "      <td>0.652175</td>\n",
       "      <td>0.863516</td>\n",
       "      <td>0.393568</td>\n",
       "      <td>0.486297</td>\n",
       "      <td>0</td>\n",
       "      <td>1</td>\n",
       "      <td>0</td>\n",
       "      <td>...</td>\n",
       "      <td>0</td>\n",
       "      <td>0</td>\n",
       "      <td>1</td>\n",
       "      <td>0</td>\n",
       "      <td>0</td>\n",
       "      <td>0</td>\n",
       "      <td>0</td>\n",
       "      <td>0</td>\n",
       "      <td>0</td>\n",
       "      <td>1</td>\n",
       "    </tr>\n",
       "    <tr>\n",
       "      <th>374</th>\n",
       "      <td>1</td>\n",
       "      <td>0</td>\n",
       "      <td>1</td>\n",
       "      <td>0.276477</td>\n",
       "      <td>0.584521</td>\n",
       "      <td>0.340487</td>\n",
       "      <td>0.382349</td>\n",
       "      <td>0</td>\n",
       "      <td>0</td>\n",
       "      <td>0</td>\n",
       "      <td>...</td>\n",
       "      <td>0</td>\n",
       "      <td>0</td>\n",
       "      <td>0</td>\n",
       "      <td>0</td>\n",
       "      <td>0</td>\n",
       "      <td>0</td>\n",
       "      <td>0</td>\n",
       "      <td>0</td>\n",
       "      <td>0</td>\n",
       "      <td>0</td>\n",
       "    </tr>\n",
       "    <tr>\n",
       "      <th>181</th>\n",
       "      <td>0</td>\n",
       "      <td>0</td>\n",
       "      <td>1</td>\n",
       "      <td>0.817910</td>\n",
       "      <td>0.265533</td>\n",
       "      <td>0.165370</td>\n",
       "      <td>0.595316</td>\n",
       "      <td>0</td>\n",
       "      <td>1</td>\n",
       "      <td>0</td>\n",
       "      <td>...</td>\n",
       "      <td>0</td>\n",
       "      <td>0</td>\n",
       "      <td>1</td>\n",
       "      <td>0</td>\n",
       "      <td>0</td>\n",
       "      <td>0</td>\n",
       "      <td>0</td>\n",
       "      <td>0</td>\n",
       "      <td>0</td>\n",
       "      <td>0</td>\n",
       "    </tr>\n",
       "    <tr>\n",
       "      <th>529</th>\n",
       "      <td>1</td>\n",
       "      <td>0</td>\n",
       "      <td>1</td>\n",
       "      <td>0.720868</td>\n",
       "      <td>0.486457</td>\n",
       "      <td>0.476922</td>\n",
       "      <td>0.836895</td>\n",
       "      <td>1</td>\n",
       "      <td>0</td>\n",
       "      <td>0</td>\n",
       "      <td>...</td>\n",
       "      <td>0</td>\n",
       "      <td>1</td>\n",
       "      <td>0</td>\n",
       "      <td>0</td>\n",
       "      <td>0</td>\n",
       "      <td>0</td>\n",
       "      <td>0</td>\n",
       "      <td>0</td>\n",
       "      <td>0</td>\n",
       "      <td>0</td>\n",
       "    </tr>\n",
       "    <tr>\n",
       "      <th>233</th>\n",
       "      <td>0</td>\n",
       "      <td>0</td>\n",
       "      <td>1</td>\n",
       "      <td>0.777567</td>\n",
       "      <td>0.359532</td>\n",
       "      <td>0.524373</td>\n",
       "      <td>0.522395</td>\n",
       "      <td>0</td>\n",
       "      <td>1</td>\n",
       "      <td>0</td>\n",
       "      <td>...</td>\n",
       "      <td>0</td>\n",
       "      <td>0</td>\n",
       "      <td>0</td>\n",
       "      <td>1</td>\n",
       "      <td>0</td>\n",
       "      <td>0</td>\n",
       "      <td>0</td>\n",
       "      <td>0</td>\n",
       "      <td>0</td>\n",
       "      <td>0</td>\n",
       "    </tr>\n",
       "  </tbody>\n",
       "</table>\n",
       "<p>5 rows × 29 columns</p>\n",
       "</div>"
      ],
      "text/plain": [
       "     yr  holiday  workingday      temp       hum  windspeed       cnt  \\\n",
       "566   1        0           0  0.652175  0.863516   0.393568  0.486297   \n",
       "374   1        0           1  0.276477  0.584521   0.340487  0.382349   \n",
       "181   0        0           1  0.817910  0.265533   0.165370  0.595316   \n",
       "529   1        0           1  0.720868  0.486457   0.476922  0.836895   \n",
       "233   0        0           1  0.777567  0.359532   0.524373  0.522395   \n",
       "\n",
       "     season_summer  season_fall  season_winter  ...  mnth_may  mnth_jun  \\\n",
       "566              0            1              0  ...         0         0   \n",
       "374              0            0              0  ...         0         0   \n",
       "181              0            1              0  ...         0         0   \n",
       "529              1            0              0  ...         0         1   \n",
       "233              0            1              0  ...         0         0   \n",
       "\n",
       "     mnth_jul  mnth_aug  mnth_sep  mnth_oct  mnth_nov  mnth_dec  \\\n",
       "566         1         0         0         0         0         0   \n",
       "374         0         0         0         0         0         0   \n",
       "181         1         0         0         0         0         0   \n",
       "529         0         0         0         0         0         0   \n",
       "233         0         1         0         0         0         0   \n",
       "\n",
       "     weathersit_Mist_Cloudy  weathersit_LightSnow_LightRain  \n",
       "566                       0                               1  \n",
       "374                       0                               0  \n",
       "181                       0                               0  \n",
       "529                       0                               0  \n",
       "233                       0                               0  \n",
       "\n",
       "[5 rows x 29 columns]"
      ]
     },
     "execution_count": 115,
     "metadata": {},
     "output_type": "execute_result"
    }
   ],
   "source": [
    "# transform test dataset \n",
    "df_test[num_vars] = scaler.transform(df_test[num_vars])\n",
    "df_test.head()"
   ]
  },
  {
   "cell_type": "markdown",
   "id": "4e55f527",
   "metadata": {},
   "source": [
    "### 3.4 Split data set into X and y sets (for both train and test set)"
   ]
  },
  {
   "cell_type": "code",
   "execution_count": 116,
   "id": "05b2ec07",
   "metadata": {},
   "outputs": [
    {
     "data": {
      "text/html": [
       "<div>\n",
       "<style scoped>\n",
       "    .dataframe tbody tr th:only-of-type {\n",
       "        vertical-align: middle;\n",
       "    }\n",
       "\n",
       "    .dataframe tbody tr th {\n",
       "        vertical-align: top;\n",
       "    }\n",
       "\n",
       "    .dataframe thead th {\n",
       "        text-align: right;\n",
       "    }\n",
       "</style>\n",
       "<table border=\"1\" class=\"dataframe\">\n",
       "  <thead>\n",
       "    <tr style=\"text-align: right;\">\n",
       "      <th></th>\n",
       "      <th>yr</th>\n",
       "      <th>holiday</th>\n",
       "      <th>workingday</th>\n",
       "      <th>temp</th>\n",
       "      <th>hum</th>\n",
       "      <th>windspeed</th>\n",
       "      <th>season_summer</th>\n",
       "      <th>season_fall</th>\n",
       "      <th>season_winter</th>\n",
       "      <th>weekday_Mon</th>\n",
       "      <th>...</th>\n",
       "      <th>mnth_may</th>\n",
       "      <th>mnth_jun</th>\n",
       "      <th>mnth_jul</th>\n",
       "      <th>mnth_aug</th>\n",
       "      <th>mnth_sep</th>\n",
       "      <th>mnth_oct</th>\n",
       "      <th>mnth_nov</th>\n",
       "      <th>mnth_dec</th>\n",
       "      <th>weathersit_Mist_Cloudy</th>\n",
       "      <th>weathersit_LightSnow_LightRain</th>\n",
       "    </tr>\n",
       "  </thead>\n",
       "  <tbody>\n",
       "    <tr>\n",
       "      <th>72</th>\n",
       "      <td>0</td>\n",
       "      <td>0</td>\n",
       "      <td>1</td>\n",
       "      <td>0.298094</td>\n",
       "      <td>0.393891</td>\n",
       "      <td>0.236118</td>\n",
       "      <td>0</td>\n",
       "      <td>0</td>\n",
       "      <td>0</td>\n",
       "      <td>1</td>\n",
       "      <td>...</td>\n",
       "      <td>0</td>\n",
       "      <td>0</td>\n",
       "      <td>0</td>\n",
       "      <td>0</td>\n",
       "      <td>0</td>\n",
       "      <td>0</td>\n",
       "      <td>0</td>\n",
       "      <td>0</td>\n",
       "      <td>0</td>\n",
       "      <td>0</td>\n",
       "    </tr>\n",
       "    <tr>\n",
       "      <th>510</th>\n",
       "      <td>1</td>\n",
       "      <td>0</td>\n",
       "      <td>0</td>\n",
       "      <td>0.778657</td>\n",
       "      <td>0.694105</td>\n",
       "      <td>0.364071</td>\n",
       "      <td>1</td>\n",
       "      <td>0</td>\n",
       "      <td>0</td>\n",
       "      <td>0</td>\n",
       "      <td>...</td>\n",
       "      <td>1</td>\n",
       "      <td>0</td>\n",
       "      <td>0</td>\n",
       "      <td>0</td>\n",
       "      <td>0</td>\n",
       "      <td>0</td>\n",
       "      <td>0</td>\n",
       "      <td>0</td>\n",
       "      <td>0</td>\n",
       "      <td>0</td>\n",
       "    </tr>\n",
       "    <tr>\n",
       "      <th>700</th>\n",
       "      <td>1</td>\n",
       "      <td>0</td>\n",
       "      <td>0</td>\n",
       "      <td>0.327249</td>\n",
       "      <td>0.809877</td>\n",
       "      <td>0.210252</td>\n",
       "      <td>0</td>\n",
       "      <td>0</td>\n",
       "      <td>1</td>\n",
       "      <td>0</td>\n",
       "      <td>...</td>\n",
       "      <td>0</td>\n",
       "      <td>0</td>\n",
       "      <td>0</td>\n",
       "      <td>0</td>\n",
       "      <td>0</td>\n",
       "      <td>0</td>\n",
       "      <td>0</td>\n",
       "      <td>1</td>\n",
       "      <td>1</td>\n",
       "      <td>0</td>\n",
       "    </tr>\n",
       "    <tr>\n",
       "      <th>264</th>\n",
       "      <td>0</td>\n",
       "      <td>0</td>\n",
       "      <td>1</td>\n",
       "      <td>0.694699</td>\n",
       "      <td>0.910249</td>\n",
       "      <td>0.217975</td>\n",
       "      <td>0</td>\n",
       "      <td>1</td>\n",
       "      <td>0</td>\n",
       "      <td>0</td>\n",
       "      <td>...</td>\n",
       "      <td>0</td>\n",
       "      <td>0</td>\n",
       "      <td>0</td>\n",
       "      <td>0</td>\n",
       "      <td>1</td>\n",
       "      <td>0</td>\n",
       "      <td>0</td>\n",
       "      <td>0</td>\n",
       "      <td>1</td>\n",
       "      <td>0</td>\n",
       "    </tr>\n",
       "    <tr>\n",
       "      <th>577</th>\n",
       "      <td>1</td>\n",
       "      <td>0</td>\n",
       "      <td>1</td>\n",
       "      <td>0.811368</td>\n",
       "      <td>0.624004</td>\n",
       "      <td>0.244886</td>\n",
       "      <td>0</td>\n",
       "      <td>1</td>\n",
       "      <td>0</td>\n",
       "      <td>0</td>\n",
       "      <td>...</td>\n",
       "      <td>0</td>\n",
       "      <td>0</td>\n",
       "      <td>0</td>\n",
       "      <td>1</td>\n",
       "      <td>0</td>\n",
       "      <td>0</td>\n",
       "      <td>0</td>\n",
       "      <td>0</td>\n",
       "      <td>0</td>\n",
       "      <td>0</td>\n",
       "    </tr>\n",
       "  </tbody>\n",
       "</table>\n",
       "<p>5 rows × 28 columns</p>\n",
       "</div>"
      ],
      "text/plain": [
       "     yr  holiday  workingday      temp       hum  windspeed  season_summer  \\\n",
       "72    0        0           1  0.298094  0.393891   0.236118              0   \n",
       "510   1        0           0  0.778657  0.694105   0.364071              1   \n",
       "700   1        0           0  0.327249  0.809877   0.210252              0   \n",
       "264   0        0           1  0.694699  0.910249   0.217975              0   \n",
       "577   1        0           1  0.811368  0.624004   0.244886              0   \n",
       "\n",
       "     season_fall  season_winter  weekday_Mon  ...  mnth_may  mnth_jun  \\\n",
       "72             0              0            1  ...         0         0   \n",
       "510            0              0            0  ...         1         0   \n",
       "700            0              1            0  ...         0         0   \n",
       "264            1              0            0  ...         0         0   \n",
       "577            1              0            0  ...         0         0   \n",
       "\n",
       "     mnth_jul  mnth_aug  mnth_sep  mnth_oct  mnth_nov  mnth_dec  \\\n",
       "72          0         0         0         0         0         0   \n",
       "510         0         0         0         0         0         0   \n",
       "700         0         0         0         0         0         1   \n",
       "264         0         0         1         0         0         0   \n",
       "577         0         1         0         0         0         0   \n",
       "\n",
       "     weathersit_Mist_Cloudy  weathersit_LightSnow_LightRain  \n",
       "72                        0                               0  \n",
       "510                       0                               0  \n",
       "700                       1                               0  \n",
       "264                       1                               0  \n",
       "577                       0                               0  \n",
       "\n",
       "[5 rows x 28 columns]"
      ]
     },
     "execution_count": 116,
     "metadata": {},
     "output_type": "execute_result"
    }
   ],
   "source": [
    "# Creating X and y data dataframe for train set\n",
    "y_train = df_train.pop('cnt')\n",
    "X_train = df_train\n",
    "X_train.head()"
   ]
  },
  {
   "cell_type": "code",
   "execution_count": 117,
   "id": "7966371b",
   "metadata": {},
   "outputs": [
    {
     "data": {
      "text/html": [
       "<div>\n",
       "<style scoped>\n",
       "    .dataframe tbody tr th:only-of-type {\n",
       "        vertical-align: middle;\n",
       "    }\n",
       "\n",
       "    .dataframe tbody tr th {\n",
       "        vertical-align: top;\n",
       "    }\n",
       "\n",
       "    .dataframe thead th {\n",
       "        text-align: right;\n",
       "    }\n",
       "</style>\n",
       "<table border=\"1\" class=\"dataframe\">\n",
       "  <thead>\n",
       "    <tr style=\"text-align: right;\">\n",
       "      <th></th>\n",
       "      <th>yr</th>\n",
       "      <th>holiday</th>\n",
       "      <th>workingday</th>\n",
       "      <th>temp</th>\n",
       "      <th>hum</th>\n",
       "      <th>windspeed</th>\n",
       "      <th>season_summer</th>\n",
       "      <th>season_fall</th>\n",
       "      <th>season_winter</th>\n",
       "      <th>weekday_Mon</th>\n",
       "      <th>...</th>\n",
       "      <th>mnth_may</th>\n",
       "      <th>mnth_jun</th>\n",
       "      <th>mnth_jul</th>\n",
       "      <th>mnth_aug</th>\n",
       "      <th>mnth_sep</th>\n",
       "      <th>mnth_oct</th>\n",
       "      <th>mnth_nov</th>\n",
       "      <th>mnth_dec</th>\n",
       "      <th>weathersit_Mist_Cloudy</th>\n",
       "      <th>weathersit_LightSnow_LightRain</th>\n",
       "    </tr>\n",
       "  </thead>\n",
       "  <tbody>\n",
       "    <tr>\n",
       "      <th>566</th>\n",
       "      <td>1</td>\n",
       "      <td>0</td>\n",
       "      <td>0</td>\n",
       "      <td>0.652175</td>\n",
       "      <td>0.863516</td>\n",
       "      <td>0.393568</td>\n",
       "      <td>0</td>\n",
       "      <td>1</td>\n",
       "      <td>0</td>\n",
       "      <td>0</td>\n",
       "      <td>...</td>\n",
       "      <td>0</td>\n",
       "      <td>0</td>\n",
       "      <td>1</td>\n",
       "      <td>0</td>\n",
       "      <td>0</td>\n",
       "      <td>0</td>\n",
       "      <td>0</td>\n",
       "      <td>0</td>\n",
       "      <td>0</td>\n",
       "      <td>1</td>\n",
       "    </tr>\n",
       "    <tr>\n",
       "      <th>374</th>\n",
       "      <td>1</td>\n",
       "      <td>0</td>\n",
       "      <td>1</td>\n",
       "      <td>0.276477</td>\n",
       "      <td>0.584521</td>\n",
       "      <td>0.340487</td>\n",
       "      <td>0</td>\n",
       "      <td>0</td>\n",
       "      <td>0</td>\n",
       "      <td>0</td>\n",
       "      <td>...</td>\n",
       "      <td>0</td>\n",
       "      <td>0</td>\n",
       "      <td>0</td>\n",
       "      <td>0</td>\n",
       "      <td>0</td>\n",
       "      <td>0</td>\n",
       "      <td>0</td>\n",
       "      <td>0</td>\n",
       "      <td>0</td>\n",
       "      <td>0</td>\n",
       "    </tr>\n",
       "    <tr>\n",
       "      <th>181</th>\n",
       "      <td>0</td>\n",
       "      <td>0</td>\n",
       "      <td>1</td>\n",
       "      <td>0.817910</td>\n",
       "      <td>0.265533</td>\n",
       "      <td>0.165370</td>\n",
       "      <td>0</td>\n",
       "      <td>1</td>\n",
       "      <td>0</td>\n",
       "      <td>0</td>\n",
       "      <td>...</td>\n",
       "      <td>0</td>\n",
       "      <td>0</td>\n",
       "      <td>1</td>\n",
       "      <td>0</td>\n",
       "      <td>0</td>\n",
       "      <td>0</td>\n",
       "      <td>0</td>\n",
       "      <td>0</td>\n",
       "      <td>0</td>\n",
       "      <td>0</td>\n",
       "    </tr>\n",
       "    <tr>\n",
       "      <th>529</th>\n",
       "      <td>1</td>\n",
       "      <td>0</td>\n",
       "      <td>1</td>\n",
       "      <td>0.720868</td>\n",
       "      <td>0.486457</td>\n",
       "      <td>0.476922</td>\n",
       "      <td>1</td>\n",
       "      <td>0</td>\n",
       "      <td>0</td>\n",
       "      <td>0</td>\n",
       "      <td>...</td>\n",
       "      <td>0</td>\n",
       "      <td>1</td>\n",
       "      <td>0</td>\n",
       "      <td>0</td>\n",
       "      <td>0</td>\n",
       "      <td>0</td>\n",
       "      <td>0</td>\n",
       "      <td>0</td>\n",
       "      <td>0</td>\n",
       "      <td>0</td>\n",
       "    </tr>\n",
       "    <tr>\n",
       "      <th>233</th>\n",
       "      <td>0</td>\n",
       "      <td>0</td>\n",
       "      <td>1</td>\n",
       "      <td>0.777567</td>\n",
       "      <td>0.359532</td>\n",
       "      <td>0.524373</td>\n",
       "      <td>0</td>\n",
       "      <td>1</td>\n",
       "      <td>0</td>\n",
       "      <td>1</td>\n",
       "      <td>...</td>\n",
       "      <td>0</td>\n",
       "      <td>0</td>\n",
       "      <td>0</td>\n",
       "      <td>1</td>\n",
       "      <td>0</td>\n",
       "      <td>0</td>\n",
       "      <td>0</td>\n",
       "      <td>0</td>\n",
       "      <td>0</td>\n",
       "      <td>0</td>\n",
       "    </tr>\n",
       "  </tbody>\n",
       "</table>\n",
       "<p>5 rows × 28 columns</p>\n",
       "</div>"
      ],
      "text/plain": [
       "     yr  holiday  workingday      temp       hum  windspeed  season_summer  \\\n",
       "566   1        0           0  0.652175  0.863516   0.393568              0   \n",
       "374   1        0           1  0.276477  0.584521   0.340487              0   \n",
       "181   0        0           1  0.817910  0.265533   0.165370              0   \n",
       "529   1        0           1  0.720868  0.486457   0.476922              1   \n",
       "233   0        0           1  0.777567  0.359532   0.524373              0   \n",
       "\n",
       "     season_fall  season_winter  weekday_Mon  ...  mnth_may  mnth_jun  \\\n",
       "566            1              0            0  ...         0         0   \n",
       "374            0              0            0  ...         0         0   \n",
       "181            1              0            0  ...         0         0   \n",
       "529            0              0            0  ...         0         1   \n",
       "233            1              0            1  ...         0         0   \n",
       "\n",
       "     mnth_jul  mnth_aug  mnth_sep  mnth_oct  mnth_nov  mnth_dec  \\\n",
       "566         1         0         0         0         0         0   \n",
       "374         0         0         0         0         0         0   \n",
       "181         1         0         0         0         0         0   \n",
       "529         0         0         0         0         0         0   \n",
       "233         0         1         0         0         0         0   \n",
       "\n",
       "     weathersit_Mist_Cloudy  weathersit_LightSnow_LightRain  \n",
       "566                       0                               1  \n",
       "374                       0                               0  \n",
       "181                       0                               0  \n",
       "529                       0                               0  \n",
       "233                       0                               0  \n",
       "\n",
       "[5 rows x 28 columns]"
      ]
     },
     "execution_count": 117,
     "metadata": {},
     "output_type": "execute_result"
    }
   ],
   "source": [
    "# Creating X and y data dataframe for test set\n",
    "y_test = df_test.pop('cnt')\n",
    "X_test = df_test\n",
    "\n",
    "X_test.head()"
   ]
  },
  {
   "cell_type": "markdown",
   "id": "b0a1dda3",
   "metadata": {},
   "source": [
    "## Step 4: Data Modeling"
   ]
  },
  {
   "cell_type": "markdown",
   "id": "4fec727f",
   "metadata": {},
   "source": [
    "### 4.1 Recusive feature elemination (RFE)"
   ]
  },
  {
   "cell_type": "code",
   "execution_count": 123,
   "id": "a55becd4",
   "metadata": {},
   "outputs": [
    {
     "data": {
      "text/plain": [
       "Index(['yr', 'holiday', 'workingday', 'temp', 'hum', 'windspeed',\n",
       "       'season_summer', 'season_fall', 'season_winter', 'weekday_Mon',\n",
       "       'weekday_Tue', 'weekday_Wed', 'weekday_Thu', 'weekday_Fri',\n",
       "       'weekday_Sat', 'mnth_feb', 'mnth_mar', 'mnth_apr', 'mnth_may',\n",
       "       'mnth_jun', 'mnth_jul', 'mnth_aug', 'mnth_sep', 'mnth_oct', 'mnth_nov',\n",
       "       'mnth_dec', 'weathersit_Mist_Cloudy', 'weathersit_LightSnow_LightRain'],\n",
       "      dtype='object')"
      ]
     },
     "execution_count": 123,
     "metadata": {},
     "output_type": "execute_result"
    }
   ],
   "source": [
    "# Checking variables for for X_train columns\n",
    "X_train.columns"
   ]
  },
  {
   "cell_type": "code",
   "execution_count": 125,
   "id": "79419684",
   "metadata": {},
   "outputs": [
    {
     "data": {
      "text/plain": [
       "Index(['yr', 'holiday', 'temp', 'hum', 'windspeed', 'season_summer',\n",
       "       'season_fall', 'season_winter', 'mnth_mar', 'mnth_may', 'mnth_aug',\n",
       "       'mnth_sep', 'mnth_oct', 'weathersit_Mist_Cloudy',\n",
       "       'weathersit_LightSnow_LightRain'],\n",
       "      dtype='object')"
      ]
     },
     "execution_count": 125,
     "metadata": {},
     "output_type": "execute_result"
    }
   ],
   "source": [
    "# Running RFE to select 15 varibles\n",
    "# Create object\n",
    "lm = LinearRegression()\n",
    "# fit model\n",
    "lm.fit(X_train, y_train)\n",
    "# run RFE\n",
    "rfe = RFE (lm, n_features_to_select = 15)\n",
    "rfe = rfe.fit(X_train, y_train)\n",
    "\n",
    "# Select columns\n",
    "col = X_train.columns[rfe.support_]\n",
    "col"
   ]
  },
  {
   "cell_type": "markdown",
   "id": "97fd16cd",
   "metadata": {},
   "source": [
    "### 4.2 Building model using statsmodel, for the detailed statistics"
   ]
  },
  {
   "cell_type": "code",
   "execution_count": 126,
   "id": "006a8ddb",
   "metadata": {},
   "outputs": [],
   "source": [
    "# Creating X_train_rfe with RFE selected variables\n",
    "X_train_rfe = X_train[col]"
   ]
  },
  {
   "cell_type": "code",
   "execution_count": 127,
   "id": "2bf40175",
   "metadata": {},
   "outputs": [],
   "source": [
    "# create function for stats linear model \n",
    "def sm_linearmodel(X_train_sm):\n",
    "    #Add constant\n",
    "    X_train_sm = sm.add_constant(X_train_sm)\n",
    "\n",
    "    # create a fitted model (1st model)\n",
    "    lm = sm.OLS(y_train,X_train_sm).fit()\n",
    "    return lm"
   ]
  },
  {
   "cell_type": "code",
   "execution_count": 128,
   "id": "e1cf5c3f",
   "metadata": {},
   "outputs": [],
   "source": [
    "# Function to calculate VIF\n",
    "# calculate VIF\n",
    "def vif_calc(X):\n",
    "    vif = pd.DataFrame()\n",
    "    vif['Features'] = X.columns\n",
    "    vif['VIF'] = [variance_inflation_factor(X.values, i) for i in range(X.shape[1])]\n",
    "    vif['VIF'] = round(vif['VIF'],2)\n",
    "    vif = vif.sort_values(by='VIF', ascending = False)\n",
    "    return vif"
   ]
  },
  {
   "cell_type": "code",
   "execution_count": 129,
   "id": "16010ad1",
   "metadata": {},
   "outputs": [
    {
     "name": "stdout",
     "output_type": "stream",
     "text": [
      "                            OLS Regression Results                            \n",
      "==============================================================================\n",
      "Dep. Variable:                    cnt   R-squared:                       0.846\n",
      "Model:                            OLS   Adj. R-squared:                  0.841\n",
      "Method:                 Least Squares   F-statistic:                     180.5\n",
      "Date:                Tue, 13 Dec 2022   Prob (F-statistic):          2.39e-189\n",
      "Time:                        21:22:43   Log-Likelihood:                 489.38\n",
      "No. Observations:                 510   AIC:                            -946.8\n",
      "Df Residuals:                     494   BIC:                            -879.0\n",
      "Df Model:                          15                                         \n",
      "Covariance Type:            nonrobust                                         \n",
      "==================================================================================================\n",
      "                                     coef    std err          t      P>|t|      [0.025      0.975]\n",
      "--------------------------------------------------------------------------------------------------\n",
      "const                              0.1956      0.025      7.982      0.000       0.147       0.244\n",
      "yr                                 0.2491      0.009     28.997      0.000       0.232       0.266\n",
      "holiday                           -0.0856      0.023     -3.656      0.000      -0.132      -0.040\n",
      "temp                               0.4458      0.034     13.299      0.000       0.380       0.512\n",
      "hum                               -0.1777      0.034     -5.192      0.000      -0.245      -0.110\n",
      "windspeed                         -0.1761      0.028     -6.241      0.000      -0.232      -0.121\n",
      "season_summer                      0.1401      0.016      8.731      0.000       0.109       0.172\n",
      "season_fall                        0.0913      0.023      3.942      0.000       0.046       0.137\n",
      "season_winter                      0.1721      0.014     11.916      0.000       0.144       0.200\n",
      "mnth_mar                           0.0512      0.016      3.172      0.002       0.019       0.083\n",
      "mnth_may                           0.0353      0.018      1.931      0.054      -0.001       0.071\n",
      "mnth_aug                           0.0388      0.020      1.955      0.051      -0.000       0.078\n",
      "mnth_sep                           0.1116      0.017      6.418      0.000       0.077       0.146\n",
      "mnth_oct                           0.0737      0.018      4.047      0.000       0.038       0.109\n",
      "weathersit_Mist_Cloudy            -0.0522      0.011     -4.594      0.000      -0.075      -0.030\n",
      "weathersit_LightSnow_LightRain    -0.1990      0.028     -7.013      0.000      -0.255      -0.143\n",
      "==============================================================================\n",
      "Omnibus:                       81.364   Durbin-Watson:                   2.055\n",
      "Prob(Omnibus):                  0.000   Jarque-Bera (JB):              205.243\n",
      "Skew:                          -0.808   Prob(JB):                     2.70e-45\n",
      "Kurtosis:                       5.655   Cond. No.                         17.4\n",
      "==============================================================================\n",
      "\n",
      "Notes:\n",
      "[1] Standard Errors assume that the covariance matrix of the errors is correctly specified.\n",
      "                          Features    VIF\n",
      "2                             temp  19.47\n",
      "3                              hum  12.27\n",
      "6                      season_fall   7.26\n",
      "4                        windspeed   3.82\n",
      "5                    season_summer   3.80\n",
      "7                    season_winter   3.05\n",
      "13          weathersit_Mist_Cloudy   2.35\n",
      "0                               yr   1.99\n",
      "10                        mnth_aug   1.72\n",
      "9                         mnth_may   1.64\n",
      "12                        mnth_oct   1.59\n",
      "11                        mnth_sep   1.57\n",
      "14  weathersit_LightSnow_LightRain   1.38\n",
      "8                         mnth_mar   1.24\n",
      "1                          holiday   1.05\n"
     ]
    }
   ],
   "source": [
    "# Create 1st stats model and look for summary and VIF\n",
    "lm_1 = sm_linearmodel(X_train_rfe)\n",
    "print(lm_1.summary())\n",
    "\n",
    "# Calculate VIF\n",
    "print(vif_calc(X_train_rfe))"
   ]
  },
  {
   "cell_type": "code",
   "execution_count": 130,
   "id": "d4aa5adf",
   "metadata": {},
   "outputs": [
    {
     "name": "stdout",
     "output_type": "stream",
     "text": [
      "Removed variable: mnth_may     P value:  0.054\n",
      "Removed variable: mnth_aug     P value:  0.056\n"
     ]
    }
   ],
   "source": [
    "# Loop to remove P value variables >0.05 in bstep mannen and update model\n",
    "\n",
    "pvalue = lm_1.pvalues\n",
    "while(max(pvalue)>0.05):\n",
    "    maxp_var = pvalue[pvalue == pvalue.max()].index\n",
    "    print('Removed variable:' , maxp_var[0], '    P value: ', round(max(pvalue),3))\n",
    "    \n",
    "    # drop variable with high p value\n",
    "    X_train_rfe = X_train_rfe.drop(maxp_var, axis = 1)\n",
    "    lm_1 = sm_linearmodel(X_train_rfe)\n",
    "    pvalue = lm_1.pvalues"
   ]
  },
  {
   "cell_type": "markdown",
   "id": "961cc259",
   "metadata": {},
   "source": [
    "<div class=\"alert alert-block alert-success\"> <b>Insights:</b></div>"
   ]
  },
  {
   "cell_type": "markdown",
   "id": "ba7b9604",
   "metadata": {},
   "source": [
    "- Two step model upadation hapenned in the above step.\n",
    "- loop-1: highest pvalue in the model; `mnth_may : 0.054`. As the pvalue is >0.05 it is insignificant for the model, so `mnth_may` is dropped and model updated.\n",
    "- loop-2: highest pvalue in the mdoel; `mnth_aug : 0.056`. As the pvalue is >0.05 it is insignificant for the model, so `mnth_aug` is dropped and model updated.\n",
    "- pvalues for all the varibles are < 0.05 so we will look for summary and VIF of model `lm_1`."
   ]
  },
  {
   "cell_type": "code",
   "execution_count": 131,
   "id": "8cad1195",
   "metadata": {},
   "outputs": [
    {
     "name": "stdout",
     "output_type": "stream",
     "text": [
      "                            OLS Regression Results                            \n",
      "==============================================================================\n",
      "Dep. Variable:                    cnt   R-squared:                       0.843\n",
      "Model:                            OLS   Adj. R-squared:                  0.839\n",
      "Method:                 Least Squares   F-statistic:                     205.5\n",
      "Date:                Tue, 13 Dec 2022   Prob (F-statistic):          4.51e-190\n",
      "Time:                        21:24:50   Log-Likelihood:                 485.58\n",
      "No. Observations:                 510   AIC:                            -943.2\n",
      "Df Residuals:                     496   BIC:                            -883.9\n",
      "Df Model:                          13                                         \n",
      "Covariance Type:            nonrobust                                         \n",
      "==================================================================================================\n",
      "                                     coef    std err          t      P>|t|      [0.025      0.975]\n",
      "--------------------------------------------------------------------------------------------------\n",
      "const                              0.1870      0.024      7.656      0.000       0.139       0.235\n",
      "yr                                 0.2487      0.009     28.813      0.000       0.232       0.266\n",
      "holiday                           -0.0886      0.023     -3.772      0.000      -0.135      -0.042\n",
      "temp                               0.4556      0.033     13.643      0.000       0.390       0.521\n",
      "hum                               -0.1624      0.034     -4.792      0.000      -0.229      -0.096\n",
      "windspeed                         -0.1749      0.028     -6.175      0.000      -0.231      -0.119\n",
      "season_summer                      0.1476      0.016      9.480      0.000       0.117       0.178\n",
      "season_fall                        0.1002      0.022      4.626      0.000       0.058       0.143\n",
      "season_winter                      0.1705      0.014     11.828      0.000       0.142       0.199\n",
      "mnth_mar                           0.0459      0.016      2.868      0.004       0.014       0.077\n",
      "mnth_sep                           0.0980      0.016      6.046      0.000       0.066       0.130\n",
      "mnth_oct                           0.0704      0.018      3.854      0.000       0.035       0.106\n",
      "weathersit_Mist_Cloudy            -0.0538      0.011     -4.727      0.000      -0.076      -0.031\n",
      "weathersit_LightSnow_LightRain    -0.2069      0.028     -7.296      0.000      -0.263      -0.151\n",
      "==============================================================================\n",
      "Omnibus:                       80.403   Durbin-Watson:                   2.073\n",
      "Prob(Omnibus):                  0.000   Jarque-Bera (JB):              188.324\n",
      "Skew:                          -0.824   Prob(JB):                     1.28e-41\n",
      "Kurtosis:                       5.479   Cond. No.                         17.1\n",
      "==============================================================================\n",
      "\n",
      "Notes:\n",
      "[1] Standard Errors assume that the covariance matrix of the errors is correctly specified.\n",
      "                          Features    VIF\n",
      "2                             temp  19.22\n",
      "3                              hum  12.09\n",
      "6                      season_fall   6.28\n",
      "4                        windspeed   3.76\n",
      "5                    season_summer   3.54\n",
      "7                    season_winter   2.99\n",
      "11          weathersit_Mist_Cloudy   2.34\n",
      "0                               yr   1.98\n",
      "10                        mnth_oct   1.59\n",
      "12  weathersit_LightSnow_LightRain   1.37\n",
      "9                         mnth_sep   1.36\n",
      "8                         mnth_mar   1.19\n",
      "1                          holiday   1.04\n"
     ]
    }
   ],
   "source": [
    "# Look for sumamry of model\n",
    "print(lm_1.summary())\n",
    "\n",
    "# Calculate VIF\n",
    "print(vif_calc(X_train_rfe))"
   ]
  },
  {
   "cell_type": "markdown",
   "id": "1bdd3440",
   "metadata": {},
   "source": [
    "<div class=\"alert alert-block alert-success\"> <b>Insights:</b></div>"
   ]
  },
  {
   "cell_type": "markdown",
   "id": "eaaed2e6",
   "metadata": {},
   "source": [
    "- R2 : `0.843` and R2- adj : `0.839`. All the variables are having pvalue<0.05. Now we will look into VIF.\n",
    "- VIF: `temp` is having highest VIF (19.22), but during EDA we could see `temp` has a high correlation with `cnt` and also its a important varible based on business understanding. So we will keep that varible and look for highest variable which is >5.\n",
    "-  We could found `hum` as next highetst VIF (12.09) which is > 0.5. We will drop the variable and update the model."
   ]
  },
  {
   "cell_type": "markdown",
   "id": "7f098645",
   "metadata": {},
   "source": [
    "### 4.3 Drop variable and update model"
   ]
  },
  {
   "cell_type": "code",
   "execution_count": 132,
   "id": "ae3df7f3",
   "metadata": {},
   "outputs": [
    {
     "name": "stdout",
     "output_type": "stream",
     "text": [
      "                            OLS Regression Results                            \n",
      "==============================================================================\n",
      "Dep. Variable:                    cnt   R-squared:                       0.836\n",
      "Model:                            OLS   Adj. R-squared:                  0.832\n",
      "Method:                 Least Squares   F-statistic:                     211.3\n",
      "Date:                Tue, 13 Dec 2022   Prob (F-statistic):          2.17e-186\n",
      "Time:                        21:29:04   Log-Likelihood:                 474.04\n",
      "No. Observations:                 510   AIC:                            -922.1\n",
      "Df Residuals:                     497   BIC:                            -867.0\n",
      "Df Model:                          12                                         \n",
      "Covariance Type:            nonrobust                                         \n",
      "==================================================================================================\n",
      "                                     coef    std err          t      P>|t|      [0.025      0.975]\n",
      "--------------------------------------------------------------------------------------------------\n",
      "const                              0.1065      0.018      5.878      0.000       0.071       0.142\n",
      "yr                                 0.2566      0.009     29.641      0.000       0.240       0.274\n",
      "holiday                           -0.0885      0.024     -3.685      0.000      -0.136      -0.041\n",
      "temp                               0.4175      0.033     12.597      0.000       0.352       0.483\n",
      "windspeed                         -0.1314      0.027     -4.791      0.000      -0.185      -0.077\n",
      "season_summer                      0.1526      0.016      9.613      0.000       0.121       0.184\n",
      "season_fall                        0.1134      0.022      5.161      0.000       0.070       0.157\n",
      "season_winter                      0.1686      0.015     11.447      0.000       0.140       0.198\n",
      "mnth_mar                           0.0501      0.016      3.067      0.002       0.018       0.082\n",
      "mnth_sep                           0.0869      0.016      5.299      0.000       0.055       0.119\n",
      "mnth_oct                           0.0717      0.019      3.846      0.000       0.035       0.108\n",
      "weathersit_Mist_Cloudy            -0.0869      0.009     -9.372      0.000      -0.105      -0.069\n",
      "weathersit_LightSnow_LightRain    -0.2772      0.025    -11.173      0.000      -0.326      -0.228\n",
      "==============================================================================\n",
      "Omnibus:                       79.287   Durbin-Watson:                   2.101\n",
      "Prob(Omnibus):                  0.000   Jarque-Bera (JB):              199.258\n",
      "Skew:                          -0.790   Prob(JB):                     5.39e-44\n",
      "Kurtosis:                       5.624   Cond. No.                         13.7\n",
      "==============================================================================\n",
      "\n",
      "Notes:\n",
      "[1] Standard Errors assume that the covariance matrix of the errors is correctly specified.\n",
      "                          Features    VIF\n",
      "2                             temp  13.50\n",
      "5                      season_fall   6.08\n",
      "3                        windspeed   3.56\n",
      "4                    season_summer   3.52\n",
      "6                    season_winter   2.87\n",
      "0                               yr   1.98\n",
      "9                         mnth_oct   1.57\n",
      "10          weathersit_Mist_Cloudy   1.53\n",
      "8                         mnth_sep   1.35\n",
      "7                         mnth_mar   1.18\n",
      "11  weathersit_LightSnow_LightRain   1.11\n",
      "1                          holiday   1.04\n"
     ]
    }
   ],
   "source": [
    "# drop varible having high VIF\n",
    "X_train_new = X_train_rfe.drop(['hum'],axis = 1)\n",
    "\n",
    "# Create stats model and look for summary\n",
    "lm_2 = sm_linearmodel(X_train_new)\n",
    "print(lm_2.summary())\n",
    "\n",
    "# Calculate VIF\n",
    "print(vif_calc(X_train_new))"
   ]
  },
  {
   "cell_type": "markdown",
   "id": "3ca43d55",
   "metadata": {},
   "source": [
    "<div class=\"alert alert-block alert-success\"> <b>Insights:</b></div>"
   ]
  },
  {
   "cell_type": "markdown",
   "id": "07db68a9",
   "metadata": {},
   "source": [
    "- After dropping the variable `hum` there is no significant change in R-squared or adj. R2-squared. So decissionto drop the varibale is correct.\n",
    "- `R-squared: 0.836` and `Adj R-squared : 0.832`. All the variables are having pvalue < 0.05. So we will look into VIF.\n",
    "- VIF: `temp` is having high VIF. But as explained earlier we will look for next highest VIF `season_fall (6.8)` which is >5. We will drop `season_fall` and update the model."
   ]
  },
  {
   "cell_type": "code",
   "execution_count": 133,
   "id": "4fb99bd9",
   "metadata": {},
   "outputs": [
    {
     "name": "stdout",
     "output_type": "stream",
     "text": [
      "                            OLS Regression Results                            \n",
      "==============================================================================\n",
      "Dep. Variable:                    cnt   R-squared:                       0.827\n",
      "Model:                            OLS   Adj. R-squared:                  0.824\n",
      "Method:                 Least Squares   F-statistic:                     217.0\n",
      "Date:                Tue, 13 Dec 2022   Prob (F-statistic):          5.89e-182\n",
      "Time:                        21:30:33   Log-Likelihood:                 460.73\n",
      "No. Observations:                 510   AIC:                            -897.5\n",
      "Df Residuals:                     498   BIC:                            -846.6\n",
      "Df Model:                          11                                         \n",
      "Covariance Type:            nonrobust                                         \n",
      "==================================================================================================\n",
      "                                     coef    std err          t      P>|t|      [0.025      0.975]\n",
      "--------------------------------------------------------------------------------------------------\n",
      "const                              0.0943      0.018      5.122      0.000       0.058       0.131\n",
      "yr                                 0.2547      0.009     28.721      0.000       0.237       0.272\n",
      "holiday                           -0.0916      0.025     -3.721      0.000      -0.140      -0.043\n",
      "temp                               0.5503      0.021     25.674      0.000       0.508       0.592\n",
      "windspeed                         -0.1378      0.028     -4.906      0.000      -0.193      -0.083\n",
      "season_summer                      0.0930      0.011      8.330      0.000       0.071       0.115\n",
      "season_winter                      0.1290      0.013     10.005      0.000       0.104       0.154\n",
      "mnth_mar                           0.0391      0.017      2.355      0.019       0.006       0.072\n",
      "mnth_sep                           0.1032      0.017      6.252      0.000       0.071       0.136\n",
      "mnth_oct                           0.0570      0.019      3.015      0.003       0.020       0.094\n",
      "weathersit_Mist_Cloudy            -0.0869      0.010     -9.147      0.000      -0.106      -0.068\n",
      "weathersit_LightSnow_LightRain    -0.2698      0.025    -10.622      0.000      -0.320      -0.220\n",
      "==============================================================================\n",
      "Omnibus:                       58.274   Durbin-Watson:                   2.081\n",
      "Prob(Omnibus):                  0.000   Jarque-Bera (JB):              119.954\n",
      "Skew:                          -0.652   Prob(JB):                     8.96e-27\n",
      "Kurtosis:                       4.986   Cond. No.                         10.6\n",
      "==============================================================================\n",
      "\n",
      "Notes:\n",
      "[1] Standard Errors assume that the covariance matrix of the errors is correctly specified.\n",
      "                          Features   VIF\n",
      "2                             temp  3.85\n",
      "3                        windspeed  3.46\n",
      "0                               yr  1.97\n",
      "5                    season_winter  1.91\n",
      "4                    season_summer  1.64\n",
      "8                         mnth_oct  1.54\n",
      "9           weathersit_Mist_Cloudy  1.53\n",
      "7                         mnth_sep  1.30\n",
      "6                         mnth_mar  1.16\n",
      "10  weathersit_LightSnow_LightRain  1.11\n",
      "1                          holiday  1.04\n"
     ]
    }
   ],
   "source": [
    "# drop varible having high VIF\n",
    "X_train_new = X_train_new.drop(['season_fall'],axis = 1)\n",
    "\n",
    "# Create stats model and look for summary\n",
    "lm_3 = sm_linearmodel(X_train_new)\n",
    "print(lm_3.summary())\n",
    "\n",
    "# Calculate VIF\n",
    "print(vif_calc(X_train_new))"
   ]
  },
  {
   "cell_type": "markdown",
   "id": "37192b15",
   "metadata": {},
   "source": [
    "<div class=\"alert alert-block alert-success\"> <b>Insights:</b></div>"
   ]
  },
  {
   "cell_type": "markdown",
   "id": "99a10968",
   "metadata": {},
   "source": [
    "- After dropping the variable `season_fall` and updating model, we could see `R-squared: 0.827` and `Adj R-squared : 0.824`. there is no significant change in R-squared or adj. R2-squared. So decission to drop the varibale is correct.\n",
    "- All the variables are having pvalue < 0.05. All VIF is also < 5. \n",
    "- So we will 1st look into the higher pvalue varible and drop it to see the effect on R-squared.\n",
    "- `mnth_mar` is having highest pvalue `0.019`. We will drop the variable, update the model and see the any impact in R-squared."
   ]
  },
  {
   "cell_type": "code",
   "execution_count": 134,
   "id": "6934b7ad",
   "metadata": {},
   "outputs": [
    {
     "name": "stdout",
     "output_type": "stream",
     "text": [
      "                            OLS Regression Results                            \n",
      "==============================================================================\n",
      "Dep. Variable:                    cnt   R-squared:                       0.825\n",
      "Model:                            OLS   Adj. R-squared:                  0.822\n",
      "Method:                 Least Squares   F-statistic:                     235.9\n",
      "Date:                Tue, 13 Dec 2022   Prob (F-statistic):          5.83e-182\n",
      "Time:                        21:31:43   Log-Likelihood:                 457.90\n",
      "No. Observations:                 510   AIC:                            -893.8\n",
      "Df Residuals:                     499   BIC:                            -847.2\n",
      "Df Model:                          10                                         \n",
      "Covariance Type:            nonrobust                                         \n",
      "==================================================================================================\n",
      "                                     coef    std err          t      P>|t|      [0.025      0.975]\n",
      "--------------------------------------------------------------------------------------------------\n",
      "const                              0.1029      0.018      5.677      0.000       0.067       0.139\n",
      "yr                                 0.2548      0.009     28.601      0.000       0.237       0.272\n",
      "holiday                           -0.0953      0.025     -3.864      0.000      -0.144      -0.047\n",
      "temp                               0.5402      0.021     25.606      0.000       0.499       0.582\n",
      "windspeed                         -0.1356      0.028     -4.807      0.000      -0.191      -0.080\n",
      "season_summer                      0.0941      0.011      8.405      0.000       0.072       0.116\n",
      "season_winter                      0.1236      0.013      9.697      0.000       0.099       0.149\n",
      "mnth_sep                           0.1020      0.017      6.153      0.000       0.069       0.135\n",
      "mnth_oct                           0.0581      0.019      3.058      0.002       0.021       0.095\n",
      "weathersit_Mist_Cloudy            -0.0860      0.010     -9.013      0.000      -0.105      -0.067\n",
      "weathersit_LightSnow_LightRain    -0.2700      0.026    -10.584      0.000      -0.320      -0.220\n",
      "==============================================================================\n",
      "Omnibus:                       60.215   Durbin-Watson:                   2.075\n",
      "Prob(Omnibus):                  0.000   Jarque-Bera (JB):              131.778\n",
      "Skew:                          -0.651   Prob(JB):                     2.43e-29\n",
      "Kurtosis:                       5.123   Cond. No.                         10.5\n",
      "==============================================================================\n",
      "\n",
      "Notes:\n",
      "[1] Standard Errors assume that the covariance matrix of the errors is correctly specified.\n",
      "                         Features   VIF\n",
      "2                            temp  3.82\n",
      "3                       windspeed  3.30\n",
      "0                              yr  1.96\n",
      "5                   season_winter  1.88\n",
      "4                   season_summer  1.63\n",
      "7                        mnth_oct  1.54\n",
      "8          weathersit_Mist_Cloudy  1.51\n",
      "6                        mnth_sep  1.30\n",
      "9  weathersit_LightSnow_LightRain  1.11\n",
      "1                         holiday  1.04\n"
     ]
    }
   ],
   "source": [
    "# drop varible having high VIF\n",
    "X_train_new = X_train_new.drop(['mnth_mar'],axis = 1)\n",
    "\n",
    "# Create stats model and look for summary\n",
    "lm_4 = sm_linearmodel(X_train_new)\n",
    "print(lm_4.summary())\n",
    "\n",
    "# Calculate VIF\n",
    "print(vif_calc(X_train_new))"
   ]
  },
  {
   "cell_type": "markdown",
   "id": "d6d929f2",
   "metadata": {},
   "source": [
    "<div class=\"alert alert-block alert-success\"> <b>Insights:</b></div>"
   ]
  },
  {
   "cell_type": "markdown",
   "id": "f9d9e32f",
   "metadata": {},
   "source": [
    "- After dropping the variable `mnth_mar` and updating model, we could see `R-squared: 0.825` and `Adj R-squared : 0.822`. There is no significant change in R-squared or adj. R2-squared. So decission to drop the variable is correct.\n",
    "- All the variables are having pvalue < 0.05. All VIF is also < 5. \n",
    "- We could go with model lm_4 but we will try to reduce further independent variable.\n",
    "- So we will 1st look into the higher pvalue varible and drop it to see the effect on R-squared.\n",
    "- `mnth_oct` is having highest pvalue `0.002`. We will drop the variable, update the model and see the any impact in R-squared.\n",
    "There is no significant change in R2 for lm_3 and lm_4 however we could reduce one independent variable. So we will choose lm_4"
   ]
  },
  {
   "cell_type": "code",
   "execution_count": 135,
   "id": "a0592415",
   "metadata": {
    "scrolled": false
   },
   "outputs": [
    {
     "name": "stdout",
     "output_type": "stream",
     "text": [
      "                            OLS Regression Results                            \n",
      "==============================================================================\n",
      "Dep. Variable:                    cnt   R-squared:                       0.822\n",
      "Model:                            OLS   Adj. R-squared:                  0.819\n",
      "Method:                 Least Squares   F-statistic:                     256.8\n",
      "Date:                Tue, 13 Dec 2022   Prob (F-statistic):          3.57e-181\n",
      "Time:                        21:35:48   Log-Likelihood:                 453.17\n",
      "No. Observations:                 510   AIC:                            -886.3\n",
      "Df Residuals:                     500   BIC:                            -844.0\n",
      "Df Model:                           9                                         \n",
      "Covariance Type:            nonrobust                                         \n",
      "==================================================================================================\n",
      "                                     coef    std err          t      P>|t|      [0.025      0.975]\n",
      "--------------------------------------------------------------------------------------------------\n",
      "const                              0.0969      0.018      5.330      0.000       0.061       0.133\n",
      "yr                                 0.2560      0.009     28.520      0.000       0.238       0.274\n",
      "holiday                           -0.0971      0.025     -3.904      0.000      -0.146      -0.048\n",
      "temp                               0.5516      0.021     26.351      0.000       0.510       0.593\n",
      "windspeed                         -0.1348      0.028     -4.740      0.000      -0.191      -0.079\n",
      "season_summer                      0.0923      0.011      8.186      0.000       0.070       0.114\n",
      "season_winter                      0.1427      0.011     12.734      0.000       0.121       0.165\n",
      "mnth_sep                           0.0933      0.016      5.666      0.000       0.061       0.126\n",
      "weathersit_Mist_Cloudy            -0.0849      0.010     -8.829      0.000      -0.104      -0.066\n",
      "weathersit_LightSnow_LightRain    -0.2642      0.026    -10.299      0.000      -0.315      -0.214\n",
      "==============================================================================\n",
      "Omnibus:                       53.635   Durbin-Watson:                   2.078\n",
      "Prob(Omnibus):                  0.000   Jarque-Bera (JB):              105.209\n",
      "Skew:                          -0.621   Prob(JB):                     1.43e-23\n",
      "Kurtosis:                       4.846   Cond. No.                         10.4\n",
      "==============================================================================\n",
      "\n",
      "Notes:\n",
      "[1] Standard Errors assume that the covariance matrix of the errors is correctly specified.\n",
      "                         Features   VIF\n",
      "2                            temp  3.75\n",
      "3                       windspeed  3.28\n",
      "0                              yr  1.96\n",
      "4                   season_summer  1.63\n",
      "7          weathersit_Mist_Cloudy  1.51\n",
      "5                   season_winter  1.44\n",
      "6                        mnth_sep  1.26\n",
      "8  weathersit_LightSnow_LightRain  1.11\n",
      "1                         holiday  1.04\n"
     ]
    }
   ],
   "source": [
    "# drop varible having high VIF\n",
    "X_train_new = X_train_new.drop(['mnth_oct'],axis = 1)\n",
    "\n",
    "# Create stats model and look for summary\n",
    "lm_5 = sm_linearmodel(X_train_new)\n",
    "print(lm_5.summary())\n",
    "\n",
    "# Calculate VIF\n",
    "print(vif_calc(X_train_new))"
   ]
  },
  {
   "cell_type": "markdown",
   "id": "e995c1ee",
   "metadata": {},
   "source": [
    "<div class=\"alert alert-block alert-success\"> <b>Insights:</b></div>"
   ]
  },
  {
   "cell_type": "markdown",
   "id": "43a6cf11",
   "metadata": {},
   "source": [
    "- After dropping the variable `mnth_oct` and updating model, we could see `R-squared: 0.822` and `Adj R-squared : 0.819`. There is no significant change in R-squared or adj. \n",
    "- All the variables are having pvalue alomost zero and all VIF is also < 5. \n",
    "- There is no significant change in Adj R-squared for `lm_4` and `lm_5` however we could reduce one independent variable. So we will choose `lm_5` as our final model."
   ]
  },
  {
   "cell_type": "markdown",
   "id": "a24a639c",
   "metadata": {},
   "source": [
    "### 4.4 Final Model and its variables"
   ]
  },
  {
   "cell_type": "markdown",
   "id": "15551d1b",
   "metadata": {},
   "source": [
    "**Now the model looks goos with the Above variable. Lets list down the final varibles**"
   ]
  },
  {
   "cell_type": "code",
   "execution_count": 137,
   "id": "50a1e1db",
   "metadata": {},
   "outputs": [
    {
     "name": "stdout",
     "output_type": "stream",
     "text": [
      "Final Selected Variables: ['yr', 'holiday', 'temp', 'windspeed', 'season_summer', 'season_winter', 'mnth_sep', 'weathersit_Mist_Cloudy', 'weathersit_LightSnow_LightRain']\n",
      "\u001b[1m\n",
      "Coefficent for the variables are:\u001b[0m\n",
      "const                             0.097\n",
      "yr                                0.256\n",
      "holiday                          -0.097\n",
      "temp                              0.552\n",
      "windspeed                        -0.135\n",
      "season_summer                     0.092\n",
      "season_winter                     0.143\n",
      "mnth_sep                          0.093\n",
      "weathersit_Mist_Cloudy           -0.085\n",
      "weathersit_LightSnow_LightRain   -0.264\n",
      "dtype: float64\n"
     ]
    }
   ],
   "source": [
    "# List down final model varibales and its coefficients\n",
    "\n",
    "# assign final model to lm_final\n",
    "lm_final = lm_5\n",
    "\n",
    "# list down and check variables of final model\n",
    "var_final = list(lm_final.params.index)\n",
    "var_final.remove('const')\n",
    "print('Final Selected Variables:', var_final)\n",
    "\n",
    "# Print the coefficents of final varible\n",
    "print('\\033[1m{:10s}\\033[0m'.format('\\nCoefficent for the variables are:'))\n",
    "print(round(lm_final.params,3))"
   ]
  },
  {
   "cell_type": "markdown",
   "id": "45587582",
   "metadata": {},
   "source": [
    "<div class=\"alert alert-block alert-warning\">\n",
    "    <b>List of final variables:</b></div>"
   ]
  },
  {
   "cell_type": "markdown",
   "id": "978ea046",
   "metadata": {},
   "source": [
    "`yr`,`holiday`, `temp`, `windspeed`, `season_summer`, `season_winter`, `mnth_sep`, `weathersit_Mist_Cloudy`, `weathersit_LightSnow_LightRain`"
   ]
  },
  {
   "cell_type": "markdown",
   "id": "2012b5b9",
   "metadata": {},
   "source": [
    "## Step 5: Residual Analysis"
   ]
  },
  {
   "cell_type": "code",
   "execution_count": 138,
   "id": "16980174",
   "metadata": {},
   "outputs": [],
   "source": [
    "# Select final variables from the test dataset\n",
    "X_train_res = X_train[var_final]"
   ]
  },
  {
   "cell_type": "code",
   "execution_count": 139,
   "id": "e3619093",
   "metadata": {},
   "outputs": [],
   "source": [
    "#Add constant\n",
    "X_train_res = sm.add_constant(X_train_res)\n",
    "\n",
    "# predict train set\n",
    "y_train_pred = lm_final.predict(X_train_res)"
   ]
  },
  {
   "cell_type": "code",
   "execution_count": 140,
   "id": "75b7d8d0",
   "metadata": {},
   "outputs": [
    {
     "data": {
      "image/png": "[encoded data removed]",
      "text/plain": [
       "<Figure size 432x288 with 1 Axes>"
      ]
     },
     "metadata": {
      "needs_background": "light"
     },
     "output_type": "display_data"
    }
   ],
   "source": [
    "# distrubition plot for residue\n",
    "res = y_train - y_train_pred\n",
    "sns.distplot(res)\n",
    "plt.title('Error terms')\n",
    "plt.show()"
   ]
  },
  {
   "cell_type": "markdown",
   "id": "a45cddeb",
   "metadata": {},
   "source": [
    "<div class=\"alert alert-block alert-success\"> <b>Insights:</b></div>"
   ]
  },
  {
   "cell_type": "markdown",
   "id": "350fb5c5",
   "metadata": {},
   "source": [
    "The distribution plot of error term shows the normal distribution with mean at Zero."
   ]
  },
  {
   "cell_type": "code",
   "execution_count": 141,
   "id": "2f49d784",
   "metadata": {},
   "outputs": [
    {
     "data": {
      "text/plain": [
       "Text(0, 0.5, 'Residual')"
      ]
     },
     "execution_count": 141,
     "metadata": {},
     "output_type": "execute_result"
    },
    {
     "data": {
      "image/png": "[encoded data removed]",
      "text/plain": [
       "<Figure size 576x360 with 1 Axes>"
      ]
     },
     "metadata": {
      "needs_background": "light"
     },
     "output_type": "display_data"
    }
   ],
   "source": [
    "# Error terms train set\n",
    "c = [i for i in range(1,len(y_train)+1,1)]\n",
    "fig = plt.figure(figsize=(8,5))\n",
    "plt.scatter(y_train,res)\n",
    "fig.suptitle('Error Terms', fontsize=16)              # Plot heading \n",
    "plt.xlabel('Y_train_pred', fontsize=14)                      # X-label\n",
    "plt.ylabel('Residual', fontsize=14)  "
   ]
  },
  {
   "cell_type": "markdown",
   "id": "8b718602",
   "metadata": {},
   "source": [
    "<div class=\"alert alert-block alert-success\"> <b>Insights:</b></div>"
   ]
  },
  {
   "cell_type": "markdown",
   "id": "84fe4402",
   "metadata": {},
   "source": [
    "- It seems like the corresponding residual plot is reasonably random.\n",
    "- Also the error terms satisfies to have reasonably constant variance (homoscedasticity)"
   ]
  },
  {
   "cell_type": "markdown",
   "id": "7d839a88",
   "metadata": {},
   "source": [
    "## Step 6: Prediction on test set"
   ]
  },
  {
   "cell_type": "code",
   "execution_count": 142,
   "id": "ab2ed390",
   "metadata": {},
   "outputs": [
    {
     "data": {
      "text/html": [
       "<div>\n",
       "<style scoped>\n",
       "    .dataframe tbody tr th:only-of-type {\n",
       "        vertical-align: middle;\n",
       "    }\n",
       "\n",
       "    .dataframe tbody tr th {\n",
       "        vertical-align: top;\n",
       "    }\n",
       "\n",
       "    .dataframe thead th {\n",
       "        text-align: right;\n",
       "    }\n",
       "</style>\n",
       "<table border=\"1\" class=\"dataframe\">\n",
       "  <thead>\n",
       "    <tr style=\"text-align: right;\">\n",
       "      <th></th>\n",
       "      <th>yr</th>\n",
       "      <th>holiday</th>\n",
       "      <th>workingday</th>\n",
       "      <th>temp</th>\n",
       "      <th>hum</th>\n",
       "      <th>windspeed</th>\n",
       "      <th>season_summer</th>\n",
       "      <th>season_fall</th>\n",
       "      <th>season_winter</th>\n",
       "      <th>weekday_Mon</th>\n",
       "      <th>...</th>\n",
       "      <th>mnth_may</th>\n",
       "      <th>mnth_jun</th>\n",
       "      <th>mnth_jul</th>\n",
       "      <th>mnth_aug</th>\n",
       "      <th>mnth_sep</th>\n",
       "      <th>mnth_oct</th>\n",
       "      <th>mnth_nov</th>\n",
       "      <th>mnth_dec</th>\n",
       "      <th>weathersit_Mist_Cloudy</th>\n",
       "      <th>weathersit_LightSnow_LightRain</th>\n",
       "    </tr>\n",
       "  </thead>\n",
       "  <tbody>\n",
       "    <tr>\n",
       "      <th>566</th>\n",
       "      <td>1</td>\n",
       "      <td>0</td>\n",
       "      <td>0</td>\n",
       "      <td>0.652175</td>\n",
       "      <td>0.863516</td>\n",
       "      <td>0.393568</td>\n",
       "      <td>0</td>\n",
       "      <td>1</td>\n",
       "      <td>0</td>\n",
       "      <td>0</td>\n",
       "      <td>...</td>\n",
       "      <td>0</td>\n",
       "      <td>0</td>\n",
       "      <td>1</td>\n",
       "      <td>0</td>\n",
       "      <td>0</td>\n",
       "      <td>0</td>\n",
       "      <td>0</td>\n",
       "      <td>0</td>\n",
       "      <td>0</td>\n",
       "      <td>1</td>\n",
       "    </tr>\n",
       "    <tr>\n",
       "      <th>374</th>\n",
       "      <td>1</td>\n",
       "      <td>0</td>\n",
       "      <td>1</td>\n",
       "      <td>0.276477</td>\n",
       "      <td>0.584521</td>\n",
       "      <td>0.340487</td>\n",
       "      <td>0</td>\n",
       "      <td>0</td>\n",
       "      <td>0</td>\n",
       "      <td>0</td>\n",
       "      <td>...</td>\n",
       "      <td>0</td>\n",
       "      <td>0</td>\n",
       "      <td>0</td>\n",
       "      <td>0</td>\n",
       "      <td>0</td>\n",
       "      <td>0</td>\n",
       "      <td>0</td>\n",
       "      <td>0</td>\n",
       "      <td>0</td>\n",
       "      <td>0</td>\n",
       "    </tr>\n",
       "    <tr>\n",
       "      <th>181</th>\n",
       "      <td>0</td>\n",
       "      <td>0</td>\n",
       "      <td>1</td>\n",
       "      <td>0.817910</td>\n",
       "      <td>0.265533</td>\n",
       "      <td>0.165370</td>\n",
       "      <td>0</td>\n",
       "      <td>1</td>\n",
       "      <td>0</td>\n",
       "      <td>0</td>\n",
       "      <td>...</td>\n",
       "      <td>0</td>\n",
       "      <td>0</td>\n",
       "      <td>1</td>\n",
       "      <td>0</td>\n",
       "      <td>0</td>\n",
       "      <td>0</td>\n",
       "      <td>0</td>\n",
       "      <td>0</td>\n",
       "      <td>0</td>\n",
       "      <td>0</td>\n",
       "    </tr>\n",
       "    <tr>\n",
       "      <th>529</th>\n",
       "      <td>1</td>\n",
       "      <td>0</td>\n",
       "      <td>1</td>\n",
       "      <td>0.720868</td>\n",
       "      <td>0.486457</td>\n",
       "      <td>0.476922</td>\n",
       "      <td>1</td>\n",
       "      <td>0</td>\n",
       "      <td>0</td>\n",
       "      <td>0</td>\n",
       "      <td>...</td>\n",
       "      <td>0</td>\n",
       "      <td>1</td>\n",
       "      <td>0</td>\n",
       "      <td>0</td>\n",
       "      <td>0</td>\n",
       "      <td>0</td>\n",
       "      <td>0</td>\n",
       "      <td>0</td>\n",
       "      <td>0</td>\n",
       "      <td>0</td>\n",
       "    </tr>\n",
       "    <tr>\n",
       "      <th>233</th>\n",
       "      <td>0</td>\n",
       "      <td>0</td>\n",
       "      <td>1</td>\n",
       "      <td>0.777567</td>\n",
       "      <td>0.359532</td>\n",
       "      <td>0.524373</td>\n",
       "      <td>0</td>\n",
       "      <td>1</td>\n",
       "      <td>0</td>\n",
       "      <td>1</td>\n",
       "      <td>...</td>\n",
       "      <td>0</td>\n",
       "      <td>0</td>\n",
       "      <td>0</td>\n",
       "      <td>1</td>\n",
       "      <td>0</td>\n",
       "      <td>0</td>\n",
       "      <td>0</td>\n",
       "      <td>0</td>\n",
       "      <td>0</td>\n",
       "      <td>0</td>\n",
       "    </tr>\n",
       "  </tbody>\n",
       "</table>\n",
       "<p>5 rows × 28 columns</p>\n",
       "</div>"
      ],
      "text/plain": [
       "     yr  holiday  workingday      temp       hum  windspeed  season_summer  \\\n",
       "566   1        0           0  0.652175  0.863516   0.393568              0   \n",
       "374   1        0           1  0.276477  0.584521   0.340487              0   \n",
       "181   0        0           1  0.817910  0.265533   0.165370              0   \n",
       "529   1        0           1  0.720868  0.486457   0.476922              1   \n",
       "233   0        0           1  0.777567  0.359532   0.524373              0   \n",
       "\n",
       "     season_fall  season_winter  weekday_Mon  ...  mnth_may  mnth_jun  \\\n",
       "566            1              0            0  ...         0         0   \n",
       "374            0              0            0  ...         0         0   \n",
       "181            1              0            0  ...         0         0   \n",
       "529            0              0            0  ...         0         1   \n",
       "233            1              0            1  ...         0         0   \n",
       "\n",
       "     mnth_jul  mnth_aug  mnth_sep  mnth_oct  mnth_nov  mnth_dec  \\\n",
       "566         1         0         0         0         0         0   \n",
       "374         0         0         0         0         0         0   \n",
       "181         1         0         0         0         0         0   \n",
       "529         0         0         0         0         0         0   \n",
       "233         0         1         0         0         0         0   \n",
       "\n",
       "     weathersit_Mist_Cloudy  weathersit_LightSnow_LightRain  \n",
       "566                       0                               1  \n",
       "374                       0                               0  \n",
       "181                       0                               0  \n",
       "529                       0                               0  \n",
       "233                       0                               0  \n",
       "\n",
       "[5 rows x 28 columns]"
      ]
     },
     "execution_count": 142,
     "metadata": {},
     "output_type": "execute_result"
    }
   ],
   "source": [
    "# check dataframe for the test set\n",
    "df_test.head()"
   ]
  },
  {
   "cell_type": "code",
   "execution_count": 143,
   "id": "acc8a713",
   "metadata": {},
   "outputs": [
    {
     "data": {
      "text/html": [
       "<div>\n",
       "<style scoped>\n",
       "    .dataframe tbody tr th:only-of-type {\n",
       "        vertical-align: middle;\n",
       "    }\n",
       "\n",
       "    .dataframe tbody tr th {\n",
       "        vertical-align: top;\n",
       "    }\n",
       "\n",
       "    .dataframe thead th {\n",
       "        text-align: right;\n",
       "    }\n",
       "</style>\n",
       "<table border=\"1\" class=\"dataframe\">\n",
       "  <thead>\n",
       "    <tr style=\"text-align: right;\">\n",
       "      <th></th>\n",
       "      <th>yr</th>\n",
       "      <th>holiday</th>\n",
       "      <th>temp</th>\n",
       "      <th>windspeed</th>\n",
       "      <th>season_summer</th>\n",
       "      <th>season_winter</th>\n",
       "      <th>mnth_sep</th>\n",
       "      <th>weathersit_Mist_Cloudy</th>\n",
       "      <th>weathersit_LightSnow_LightRain</th>\n",
       "    </tr>\n",
       "  </thead>\n",
       "  <tbody>\n",
       "    <tr>\n",
       "      <th>566</th>\n",
       "      <td>1</td>\n",
       "      <td>0</td>\n",
       "      <td>0.652175</td>\n",
       "      <td>0.393568</td>\n",
       "      <td>0</td>\n",
       "      <td>0</td>\n",
       "      <td>0</td>\n",
       "      <td>0</td>\n",
       "      <td>1</td>\n",
       "    </tr>\n",
       "    <tr>\n",
       "      <th>374</th>\n",
       "      <td>1</td>\n",
       "      <td>0</td>\n",
       "      <td>0.276477</td>\n",
       "      <td>0.340487</td>\n",
       "      <td>0</td>\n",
       "      <td>0</td>\n",
       "      <td>0</td>\n",
       "      <td>0</td>\n",
       "      <td>0</td>\n",
       "    </tr>\n",
       "    <tr>\n",
       "      <th>181</th>\n",
       "      <td>0</td>\n",
       "      <td>0</td>\n",
       "      <td>0.817910</td>\n",
       "      <td>0.165370</td>\n",
       "      <td>0</td>\n",
       "      <td>0</td>\n",
       "      <td>0</td>\n",
       "      <td>0</td>\n",
       "      <td>0</td>\n",
       "    </tr>\n",
       "    <tr>\n",
       "      <th>529</th>\n",
       "      <td>1</td>\n",
       "      <td>0</td>\n",
       "      <td>0.720868</td>\n",
       "      <td>0.476922</td>\n",
       "      <td>1</td>\n",
       "      <td>0</td>\n",
       "      <td>0</td>\n",
       "      <td>0</td>\n",
       "      <td>0</td>\n",
       "    </tr>\n",
       "    <tr>\n",
       "      <th>233</th>\n",
       "      <td>0</td>\n",
       "      <td>0</td>\n",
       "      <td>0.777567</td>\n",
       "      <td>0.524373</td>\n",
       "      <td>0</td>\n",
       "      <td>0</td>\n",
       "      <td>0</td>\n",
       "      <td>0</td>\n",
       "      <td>0</td>\n",
       "    </tr>\n",
       "  </tbody>\n",
       "</table>\n",
       "</div>"
      ],
      "text/plain": [
       "     yr  holiday      temp  windspeed  season_summer  season_winter  mnth_sep  \\\n",
       "566   1        0  0.652175   0.393568              0              0         0   \n",
       "374   1        0  0.276477   0.340487              0              0         0   \n",
       "181   0        0  0.817910   0.165370              0              0         0   \n",
       "529   1        0  0.720868   0.476922              1              0         0   \n",
       "233   0        0  0.777567   0.524373              0              0         0   \n",
       "\n",
       "     weathersit_Mist_Cloudy  weathersit_LightSnow_LightRain  \n",
       "566                       0                               1  \n",
       "374                       0                               0  \n",
       "181                       0                               0  \n",
       "529                       0                               0  \n",
       "233                       0                               0  "
      ]
     },
     "execution_count": 143,
     "metadata": {},
     "output_type": "execute_result"
    }
   ],
   "source": [
    "# select final variables from X_test\n",
    "X_test_sm = X_test[var_final]\n",
    "X_test_sm.head()"
   ]
  },
  {
   "cell_type": "code",
   "execution_count": 144,
   "id": "754cbd66",
   "metadata": {},
   "outputs": [
    {
     "data": {
      "text/html": [
       "<div>\n",
       "<style scoped>\n",
       "    .dataframe tbody tr th:only-of-type {\n",
       "        vertical-align: middle;\n",
       "    }\n",
       "\n",
       "    .dataframe tbody tr th {\n",
       "        vertical-align: top;\n",
       "    }\n",
       "\n",
       "    .dataframe thead th {\n",
       "        text-align: right;\n",
       "    }\n",
       "</style>\n",
       "<table border=\"1\" class=\"dataframe\">\n",
       "  <thead>\n",
       "    <tr style=\"text-align: right;\">\n",
       "      <th></th>\n",
       "      <th>const</th>\n",
       "      <th>yr</th>\n",
       "      <th>holiday</th>\n",
       "      <th>temp</th>\n",
       "      <th>windspeed</th>\n",
       "      <th>season_summer</th>\n",
       "      <th>season_winter</th>\n",
       "      <th>mnth_sep</th>\n",
       "      <th>weathersit_Mist_Cloudy</th>\n",
       "      <th>weathersit_LightSnow_LightRain</th>\n",
       "    </tr>\n",
       "  </thead>\n",
       "  <tbody>\n",
       "    <tr>\n",
       "      <th>566</th>\n",
       "      <td>1.0</td>\n",
       "      <td>1</td>\n",
       "      <td>0</td>\n",
       "      <td>0.652175</td>\n",
       "      <td>0.393568</td>\n",
       "      <td>0</td>\n",
       "      <td>0</td>\n",
       "      <td>0</td>\n",
       "      <td>0</td>\n",
       "      <td>1</td>\n",
       "    </tr>\n",
       "    <tr>\n",
       "      <th>374</th>\n",
       "      <td>1.0</td>\n",
       "      <td>1</td>\n",
       "      <td>0</td>\n",
       "      <td>0.276477</td>\n",
       "      <td>0.340487</td>\n",
       "      <td>0</td>\n",
       "      <td>0</td>\n",
       "      <td>0</td>\n",
       "      <td>0</td>\n",
       "      <td>0</td>\n",
       "    </tr>\n",
       "    <tr>\n",
       "      <th>181</th>\n",
       "      <td>1.0</td>\n",
       "      <td>0</td>\n",
       "      <td>0</td>\n",
       "      <td>0.817910</td>\n",
       "      <td>0.165370</td>\n",
       "      <td>0</td>\n",
       "      <td>0</td>\n",
       "      <td>0</td>\n",
       "      <td>0</td>\n",
       "      <td>0</td>\n",
       "    </tr>\n",
       "    <tr>\n",
       "      <th>529</th>\n",
       "      <td>1.0</td>\n",
       "      <td>1</td>\n",
       "      <td>0</td>\n",
       "      <td>0.720868</td>\n",
       "      <td>0.476922</td>\n",
       "      <td>1</td>\n",
       "      <td>0</td>\n",
       "      <td>0</td>\n",
       "      <td>0</td>\n",
       "      <td>0</td>\n",
       "    </tr>\n",
       "    <tr>\n",
       "      <th>233</th>\n",
       "      <td>1.0</td>\n",
       "      <td>0</td>\n",
       "      <td>0</td>\n",
       "      <td>0.777567</td>\n",
       "      <td>0.524373</td>\n",
       "      <td>0</td>\n",
       "      <td>0</td>\n",
       "      <td>0</td>\n",
       "      <td>0</td>\n",
       "      <td>0</td>\n",
       "    </tr>\n",
       "  </tbody>\n",
       "</table>\n",
       "</div>"
      ],
      "text/plain": [
       "     const  yr  holiday      temp  windspeed  season_summer  season_winter  \\\n",
       "566    1.0   1        0  0.652175   0.393568              0              0   \n",
       "374    1.0   1        0  0.276477   0.340487              0              0   \n",
       "181    1.0   0        0  0.817910   0.165370              0              0   \n",
       "529    1.0   1        0  0.720868   0.476922              1              0   \n",
       "233    1.0   0        0  0.777567   0.524373              0              0   \n",
       "\n",
       "     mnth_sep  weathersit_Mist_Cloudy  weathersit_LightSnow_LightRain  \n",
       "566         0                       0                               1  \n",
       "374         0                       0                               0  \n",
       "181         0                       0                               0  \n",
       "529         0                       0                               0  \n",
       "233         0                       0                               0  "
      ]
     },
     "execution_count": 144,
     "metadata": {},
     "output_type": "execute_result"
    }
   ],
   "source": [
    "# add constant\n",
    "X_test_sm = sm.add_constant(X_test_sm)\n",
    "X_test_sm.head()"
   ]
  },
  {
   "cell_type": "code",
   "execution_count": 145,
   "id": "78e6d0e6",
   "metadata": {},
   "outputs": [],
   "source": [
    "# predict test dataset\n",
    "y_test_pred = lm_final.predict(X_test_sm)"
   ]
  },
  {
   "cell_type": "markdown",
   "id": "4b3cfb9d",
   "metadata": {},
   "source": [
    "## Step 6: Evaluate the model on test set"
   ]
  },
  {
   "cell_type": "code",
   "execution_count": 146,
   "id": "28da715f",
   "metadata": {},
   "outputs": [
    {
     "name": "stdout",
     "output_type": "stream",
     "text": [
      "R-Squared for Test dataset:  0.815\n"
     ]
    }
   ],
   "source": [
    "# Get R-Squared fro test dataset\n",
    "r2_test = r2_score(y_true = y_test, y_pred = y_test_pred)\n",
    "print('R-Squared for Test dataset: ', round(r2_test,3))"
   ]
  },
  {
   "cell_type": "code",
   "execution_count": 147,
   "id": "f203f5f7",
   "metadata": {},
   "outputs": [
    {
     "name": "stdout",
     "output_type": "stream",
     "text": [
      "Adj. R-Squared for Test dataset:  0.807\n"
     ]
    }
   ],
   "source": [
    "# Adj. R-Squared for test dataset\n",
    "N= len(X_test)          # sample size\n",
    "p =len(var_final)     # Number of independent variable\n",
    "r2_test_adj = round((1-((1-r2_test)*(N-1)/(N-p-1))),3)\n",
    "print('Adj. R-Squared for Test dataset: ', round(r2_test_adj,3))"
   ]
  },
  {
   "cell_type": "code",
   "execution_count": 148,
   "id": "eb56e417",
   "metadata": {},
   "outputs": [
    {
     "name": "stdout",
     "output_type": "stream",
     "text": [
      "Mean_Squared_Error : 0.0096\n"
     ]
    }
   ],
   "source": [
    "# Mean Sqare Error\n",
    "mse = mean_squared_error(y_test, y_test_pred)\n",
    "print('Mean_Squared_Error :' ,round(mse,4))"
   ]
  },
  {
   "cell_type": "code",
   "execution_count": 149,
   "id": "ced495a8",
   "metadata": {},
   "outputs": [
    {
     "data": {
      "image/png": "[encoded data removed]",
      "text/plain": [
       "<Figure size 432x288 with 1 Axes>"
      ]
     },
     "metadata": {
      "needs_background": "light"
     },
     "output_type": "display_data"
    }
   ],
   "source": [
    "#creating distribution plot for residuals\n",
    "res_test = y_test - y_test_pred\n",
    "plt.title('Error Terms', fontsize=16) \n",
    "sns.distplot(res_test)\n",
    "plt.show()"
   ]
  },
  {
   "cell_type": "markdown",
   "id": "19e8ac9f",
   "metadata": {},
   "source": [
    "<div class=\"alert alert-block alert-success\"> <b>Insights:</b></div>"
   ]
  },
  {
   "cell_type": "markdown",
   "id": "5b1c5950",
   "metadata": {},
   "source": [
    "The distribution plot of error term shows the normal distribution with mean at Zero."
   ]
  },
  {
   "cell_type": "code",
   "execution_count": 150,
   "id": "529e9c5a",
   "metadata": {},
   "outputs": [
    {
     "data": {
      "text/plain": [
       "Text(0, 0.5, 'Residual')"
      ]
     },
     "execution_count": 150,
     "metadata": {},
     "output_type": "execute_result"
    },
    {
     "data": {
      "image/png": "[encoded data removed]",
      "text/plain": [
       "<Figure size 576x360 with 1 Axes>"
      ]
     },
     "metadata": {
      "needs_background": "light"
     },
     "output_type": "display_data"
    }
   ],
   "source": [
    "# Error terms\n",
    "c = [i for i in range(1,len(y_test)+1,1)]\n",
    "fig = plt.figure(figsize=(8,5))\n",
    "plt.scatter(y_test,res_test)\n",
    "fig.suptitle('Error Terms', fontsize=16)              # Plot heading \n",
    "plt.xlabel('Y_test_pred', fontsize=14)                      # X-label\n",
    "plt.ylabel('Residual', fontsize=14)  "
   ]
  },
  {
   "cell_type": "markdown",
   "id": "6f4a32e0",
   "metadata": {},
   "source": [
    "<div class=\"alert alert-block alert-success\"> <b>Insights:</b></div>"
   ]
  },
  {
   "cell_type": "markdown",
   "id": "11a3f7ba",
   "metadata": {},
   "source": [
    "- It seems like the corresponding residual plot is reasonably random."
   ]
  },
  {
   "cell_type": "code",
   "execution_count": 151,
   "id": "d307f786",
   "metadata": {},
   "outputs": [
    {
     "data": {
      "text/plain": [
       "Text(0, 0.5, 'y_test_pred')"
      ]
     },
     "execution_count": 151,
     "metadata": {},
     "output_type": "execute_result"
    },
    {
     "data": {
      "image/png": "[encoded data removed]",
      "text/plain": [
       "<Figure size 432x288 with 1 Axes>"
      ]
     },
     "metadata": {
      "needs_background": "light"
     },
     "output_type": "display_data"
    }
   ],
   "source": [
    "# Plotting y_test and y_pred to understand the spread\n",
    "\n",
    "fig = plt.figure()\n",
    "plt.scatter(y_test, y_test_pred)\n",
    "fig.suptitle('y_test vs y_pred', fontsize = 20)              # Plot heading \n",
    "plt.xlabel('y_test', fontsize = 18)                          # X-label\n",
    "plt.ylabel('y_test_pred', fontsize = 16)"
   ]
  },
  {
   "cell_type": "markdown",
   "id": "6bb5bd73",
   "metadata": {},
   "source": [
    "<div class=\"alert alert-block alert-success\"> <b>Insights:</b></div>"
   ]
  },
  {
   "cell_type": "markdown",
   "id": "e17b4837",
   "metadata": {},
   "source": [
    "We can colude that the model `lm_5` fit isn't by chance, and has descent predictive power."
   ]
  },
  {
   "cell_type": "markdown",
   "id": "1735e5c9",
   "metadata": {},
   "source": [
    "### Conclusion"
   ]
  },
  {
   "cell_type": "code",
   "execution_count": 152,
   "id": "004a6875",
   "metadata": {},
   "outputs": [
    {
     "name": "stdout",
     "output_type": "stream",
     "text": [
      "R- Sqaured train:  0.82   Adj. R-Squared train: 0.819\n",
      "R- Sqaured test :  0.81   Adj. R-Squared test : 0.807\n",
      "\u001b[1m\n",
      "Coefficent for the variables are:\u001b[0m\n",
      "const                             0.097\n",
      "yr                                0.256\n",
      "holiday                          -0.097\n",
      "temp                              0.552\n",
      "windspeed                        -0.135\n",
      "season_summer                     0.092\n",
      "season_winter                     0.143\n",
      "mnth_sep                          0.093\n",
      "weathersit_Mist_Cloudy           -0.085\n",
      "weathersit_LightSnow_LightRain   -0.264\n",
      "dtype: float64\n"
     ]
    }
   ],
   "source": [
    "# Print R Squared and adj. R Squared\n",
    "print('R- Sqaured train: ', round(lm_final.rsquared,2), '  Adj. R-Squared train:', round(lm_final.rsquared_adj,3) )\n",
    "print('R- Sqaured test : ', round(r2_test,2), '  Adj. R-Squared test :', round(r2_test_adj,3))\n",
    "\n",
    "# Print the coefficents of final varible\n",
    "print('\\033[1m{:10s}\\033[0m'.format('\\nCoefficent for the variables are:'))\n",
    "print(round(lm_final.params,3))"
   ]
  },
  {
   "cell_type": "markdown",
   "id": "e75a3ec6",
   "metadata": {},
   "source": [
    "<div class=\"alert alert-block alert-warning\">\n",
    "    <b>The equation of our best fitted line is:</b></div>"
   ]
  },
  {
   "cell_type": "markdown",
   "id": "56052770",
   "metadata": {},
   "source": [
    "$ cnt = 0.097 + (0.256  \\times  yr) + (0.097  \\times  holiday) + (0.552 \\times temp) - (0.135 \\times windspeed) + (0.092 \\times SeasonSummer) + (0.143 \\times SeasonWinter) + (0.093 \\times MonthSep) - (0.085 \\times WeathersitMistCloudy) - (0.264 \\times weathersitLightSnowLightRain) $"
   ]
  },
  {
   "cell_type": "markdown",
   "id": "3f03d966",
   "metadata": {},
   "source": [
    "- From R-Sqaured and adj R-Sqaured value of both train and test dataset we could conclude that the above variables can well explain more than 80% of bike demand.\n",
    "\n",
    "- Coeffiencients of the variables explains the factors effecting the bike demand\n",
    "\n",
    "- Based on final model top three features contributing significantly towards explaining the demand are:\n",
    "\n",
    "1. Temperature (0.552)\n",
    "2. weathersit : Light Snow, Light Rain + Thunderstorm + Scattered clouds, Light Rain + Scattered clouds (-0.264)\n",
    "3. year (0.256)\n",
    "\n",
    "**So it recomended to give these variables utmost importance while planning to achieve maximum demand.**"
   ]
  }
 ],
 "metadata": {
  "kernelspec": {
   "display_name": "Python 3 (ipykernel)",
   "language": "python",
   "name": "python3"
  },
  "language_info": {
   "codemirror_mode": {
    "name": "ipython",
    "version": 3
   },
   "file_extension": ".py",
   "mimetype": "text/x-python",
   "name": "python",
   "nbconvert_exporter": "python",
   "pygments_lexer": "ipython3",
   "version": "3.9.12"
  }
 },
 "nbformat": 4,
 "nbformat_minor": 5
}
